{
 "cells": [
  {
   "cell_type": "code",
   "execution_count": 3,
   "metadata": {},
   "outputs": [],
   "source": [
    "import numpy as np\n",
    "import pandas as pd\n",
    "%matplotlib notebook\n",
    "import matplotlib.pyplot as plt\n",
    "\n",
    "from scipy.fftpack import fft\n",
    "from scipy import signal"
   ]
  },
  {
   "cell_type": "markdown",
   "metadata": {},
   "source": [
    "## Data Preparation"
   ]
  },
  {
   "cell_type": "code",
   "execution_count": 4,
   "metadata": {},
   "outputs": [],
   "source": [
    "colNames = ['timeStamp', 'c1' ,'c2', 'c3', 'c4', 'a1', 'a2', 'a3', 'ganglionTime']\n",
    "data = pd.read_csv(\"../Data/OpenBCI-RAW-Both_arm_c3c4_2019-01-26_18-35-35.txt\", sep=',', names=colNames)"
   ]
  },
  {
   "cell_type": "code",
   "execution_count": 5,
   "metadata": {},
   "outputs": [],
   "source": [
    "data = data[6:]"
   ]
  },
  {
   "cell_type": "code",
   "execution_count": 6,
   "metadata": {},
   "outputs": [
    {
     "data": {
      "text/html": [
       "<div>\n",
       "<style scoped>\n",
       "    .dataframe tbody tr th:only-of-type {\n",
       "        vertical-align: middle;\n",
       "    }\n",
       "\n",
       "    .dataframe tbody tr th {\n",
       "        vertical-align: top;\n",
       "    }\n",
       "\n",
       "    .dataframe thead th {\n",
       "        text-align: right;\n",
       "    }\n",
       "</style>\n",
       "<table border=\"1\" class=\"dataframe\">\n",
       "  <thead>\n",
       "    <tr style=\"text-align: right;\">\n",
       "      <th></th>\n",
       "      <th>timeStamp</th>\n",
       "      <th>c1</th>\n",
       "      <th>c2</th>\n",
       "      <th>c3</th>\n",
       "      <th>c4</th>\n",
       "      <th>a1</th>\n",
       "      <th>a2</th>\n",
       "      <th>a3</th>\n",
       "      <th>ganglionTime</th>\n",
       "    </tr>\n",
       "  </thead>\n",
       "  <tbody>\n",
       "    <tr>\n",
       "      <th>6</th>\n",
       "      <td>0</td>\n",
       "      <td>-139.20</td>\n",
       "      <td>59.12</td>\n",
       "      <td>270.64</td>\n",
       "      <td>-3223.66</td>\n",
       "      <td>0.0</td>\n",
       "      <td>0.0</td>\n",
       "      <td>0.0</td>\n",
       "      <td>18:39:23.803</td>\n",
       "    </tr>\n",
       "    <tr>\n",
       "      <th>7</th>\n",
       "      <td>1</td>\n",
       "      <td>-107.04</td>\n",
       "      <td>69.69</td>\n",
       "      <td>275.43</td>\n",
       "      <td>-3177.39</td>\n",
       "      <td>0.0</td>\n",
       "      <td>0.0</td>\n",
       "      <td>0.0</td>\n",
       "      <td>18:39:23.833</td>\n",
       "    </tr>\n",
       "    <tr>\n",
       "      <th>8</th>\n",
       "      <td>2</td>\n",
       "      <td>-112.69</td>\n",
       "      <td>88.39</td>\n",
       "      <td>286.92</td>\n",
       "      <td>-3273.02</td>\n",
       "      <td>0.0</td>\n",
       "      <td>0.0</td>\n",
       "      <td>0.0</td>\n",
       "      <td>18:39:23.833</td>\n",
       "    </tr>\n",
       "    <tr>\n",
       "      <th>9</th>\n",
       "      <td>3</td>\n",
       "      <td>-136.61</td>\n",
       "      <td>83.56</td>\n",
       "      <td>295.51</td>\n",
       "      <td>-3274.68</td>\n",
       "      <td>0.0</td>\n",
       "      <td>0.0</td>\n",
       "      <td>0.0</td>\n",
       "      <td>18:39:23.834</td>\n",
       "    </tr>\n",
       "    <tr>\n",
       "      <th>10</th>\n",
       "      <td>4</td>\n",
       "      <td>-132.21</td>\n",
       "      <td>56.71</td>\n",
       "      <td>278.88</td>\n",
       "      <td>-3225.64</td>\n",
       "      <td>0.0</td>\n",
       "      <td>0.0</td>\n",
       "      <td>0.0</td>\n",
       "      <td>18:39:23.834</td>\n",
       "    </tr>\n",
       "  </tbody>\n",
       "</table>\n",
       "</div>"
      ],
      "text/plain": [
       "   timeStamp      c1     c2      c3       c4   a1   a2   a3   ganglionTime\n",
       "6          0 -139.20  59.12  270.64 -3223.66  0.0  0.0  0.0   18:39:23.803\n",
       "7          1 -107.04  69.69  275.43 -3177.39  0.0  0.0  0.0   18:39:23.833\n",
       "8          2 -112.69  88.39  286.92 -3273.02  0.0  0.0  0.0   18:39:23.833\n",
       "9          3 -136.61  83.56  295.51 -3274.68  0.0  0.0  0.0   18:39:23.834\n",
       "10         4 -132.21  56.71  278.88 -3225.64  0.0  0.0  0.0   18:39:23.834"
      ]
     },
     "execution_count": 6,
     "metadata": {},
     "output_type": "execute_result"
    }
   ],
   "source": [
    "data.head(5)"
   ]
  },
  {
   "cell_type": "markdown",
   "metadata": {},
   "source": [
    "## Time Domain Analysis"
   ]
  },
  {
   "cell_type": "code",
   "execution_count": 8,
   "metadata": {},
   "outputs": [
    {
     "data": {
      "application/javascript": [
       "/* Put everything inside the global mpl namespace */\n",
       "window.mpl = {};\n",
       "\n",
       "\n",
       "mpl.get_websocket_type = function() {\n",
       "    if (typeof(WebSocket) !== 'undefined') {\n",
       "        return WebSocket;\n",
       "    } else if (typeof(MozWebSocket) !== 'undefined') {\n",
       "        return MozWebSocket;\n",
       "    } else {\n",
       "        alert('Your browser does not have WebSocket support.' +\n",
       "              'Please try Chrome, Safari or Firefox ≥ 6. ' +\n",
       "              'Firefox 4 and 5 are also supported but you ' +\n",
       "              'have to enable WebSockets in about:config.');\n",
       "    };\n",
       "}\n",
       "\n",
       "mpl.figure = function(figure_id, websocket, ondownload, parent_element) {\n",
       "    this.id = figure_id;\n",
       "\n",
       "    this.ws = websocket;\n",
       "\n",
       "    this.supports_binary = (this.ws.binaryType != undefined);\n",
       "\n",
       "    if (!this.supports_binary) {\n",
       "        var warnings = document.getElementById(\"mpl-warnings\");\n",
       "        if (warnings) {\n",
       "            warnings.style.display = 'block';\n",
       "            warnings.textContent = (\n",
       "                \"This browser does not support binary websocket messages. \" +\n",
       "                    \"Performance may be slow.\");\n",
       "        }\n",
       "    }\n",
       "\n",
       "    this.imageObj = new Image();\n",
       "\n",
       "    this.context = undefined;\n",
       "    this.message = undefined;\n",
       "    this.canvas = undefined;\n",
       "    this.rubberband_canvas = undefined;\n",
       "    this.rubberband_context = undefined;\n",
       "    this.format_dropdown = undefined;\n",
       "\n",
       "    this.image_mode = 'full';\n",
       "\n",
       "    this.root = $('<div/>');\n",
       "    this._root_extra_style(this.root)\n",
       "    this.root.attr('style', 'display: inline-block');\n",
       "\n",
       "    $(parent_element).append(this.root);\n",
       "\n",
       "    this._init_header(this);\n",
       "    this._init_canvas(this);\n",
       "    this._init_toolbar(this);\n",
       "\n",
       "    var fig = this;\n",
       "\n",
       "    this.waiting = false;\n",
       "\n",
       "    this.ws.onopen =  function () {\n",
       "            fig.send_message(\"supports_binary\", {value: fig.supports_binary});\n",
       "            fig.send_message(\"send_image_mode\", {});\n",
       "            if (mpl.ratio != 1) {\n",
       "                fig.send_message(\"set_dpi_ratio\", {'dpi_ratio': mpl.ratio});\n",
       "            }\n",
       "            fig.send_message(\"refresh\", {});\n",
       "        }\n",
       "\n",
       "    this.imageObj.onload = function() {\n",
       "            if (fig.image_mode == 'full') {\n",
       "                // Full images could contain transparency (where diff images\n",
       "                // almost always do), so we need to clear the canvas so that\n",
       "                // there is no ghosting.\n",
       "                fig.context.clearRect(0, 0, fig.canvas.width, fig.canvas.height);\n",
       "            }\n",
       "            fig.context.drawImage(fig.imageObj, 0, 0);\n",
       "        };\n",
       "\n",
       "    this.imageObj.onunload = function() {\n",
       "        fig.ws.close();\n",
       "    }\n",
       "\n",
       "    this.ws.onmessage = this._make_on_message_function(this);\n",
       "\n",
       "    this.ondownload = ondownload;\n",
       "}\n",
       "\n",
       "mpl.figure.prototype._init_header = function() {\n",
       "    var titlebar = $(\n",
       "        '<div class=\"ui-dialog-titlebar ui-widget-header ui-corner-all ' +\n",
       "        'ui-helper-clearfix\"/>');\n",
       "    var titletext = $(\n",
       "        '<div class=\"ui-dialog-title\" style=\"width: 100%; ' +\n",
       "        'text-align: center; padding: 3px;\"/>');\n",
       "    titlebar.append(titletext)\n",
       "    this.root.append(titlebar);\n",
       "    this.header = titletext[0];\n",
       "}\n",
       "\n",
       "\n",
       "\n",
       "mpl.figure.prototype._canvas_extra_style = function(canvas_div) {\n",
       "\n",
       "}\n",
       "\n",
       "\n",
       "mpl.figure.prototype._root_extra_style = function(canvas_div) {\n",
       "\n",
       "}\n",
       "\n",
       "mpl.figure.prototype._init_canvas = function() {\n",
       "    var fig = this;\n",
       "\n",
       "    var canvas_div = $('<div/>');\n",
       "\n",
       "    canvas_div.attr('style', 'position: relative; clear: both; outline: 0');\n",
       "\n",
       "    function canvas_keyboard_event(event) {\n",
       "        return fig.key_event(event, event['data']);\n",
       "    }\n",
       "\n",
       "    canvas_div.keydown('key_press', canvas_keyboard_event);\n",
       "    canvas_div.keyup('key_release', canvas_keyboard_event);\n",
       "    this.canvas_div = canvas_div\n",
       "    this._canvas_extra_style(canvas_div)\n",
       "    this.root.append(canvas_div);\n",
       "\n",
       "    var canvas = $('<canvas/>');\n",
       "    canvas.addClass('mpl-canvas');\n",
       "    canvas.attr('style', \"left: 0; top: 0; z-index: 0; outline: 0\")\n",
       "\n",
       "    this.canvas = canvas[0];\n",
       "    this.context = canvas[0].getContext(\"2d\");\n",
       "\n",
       "    var backingStore = this.context.backingStorePixelRatio ||\n",
       "\tthis.context.webkitBackingStorePixelRatio ||\n",
       "\tthis.context.mozBackingStorePixelRatio ||\n",
       "\tthis.context.msBackingStorePixelRatio ||\n",
       "\tthis.context.oBackingStorePixelRatio ||\n",
       "\tthis.context.backingStorePixelRatio || 1;\n",
       "\n",
       "    mpl.ratio = (window.devicePixelRatio || 1) / backingStore;\n",
       "\n",
       "    var rubberband = $('<canvas/>');\n",
       "    rubberband.attr('style', \"position: absolute; left: 0; top: 0; z-index: 1;\")\n",
       "\n",
       "    var pass_mouse_events = true;\n",
       "\n",
       "    canvas_div.resizable({\n",
       "        start: function(event, ui) {\n",
       "            pass_mouse_events = false;\n",
       "        },\n",
       "        resize: function(event, ui) {\n",
       "            fig.request_resize(ui.size.width, ui.size.height);\n",
       "        },\n",
       "        stop: function(event, ui) {\n",
       "            pass_mouse_events = true;\n",
       "            fig.request_resize(ui.size.width, ui.size.height);\n",
       "        },\n",
       "    });\n",
       "\n",
       "    function mouse_event_fn(event) {\n",
       "        if (pass_mouse_events)\n",
       "            return fig.mouse_event(event, event['data']);\n",
       "    }\n",
       "\n",
       "    rubberband.mousedown('button_press', mouse_event_fn);\n",
       "    rubberband.mouseup('button_release', mouse_event_fn);\n",
       "    // Throttle sequential mouse events to 1 every 20ms.\n",
       "    rubberband.mousemove('motion_notify', mouse_event_fn);\n",
       "\n",
       "    rubberband.mouseenter('figure_enter', mouse_event_fn);\n",
       "    rubberband.mouseleave('figure_leave', mouse_event_fn);\n",
       "\n",
       "    canvas_div.on(\"wheel\", function (event) {\n",
       "        event = event.originalEvent;\n",
       "        event['data'] = 'scroll'\n",
       "        if (event.deltaY < 0) {\n",
       "            event.step = 1;\n",
       "        } else {\n",
       "            event.step = -1;\n",
       "        }\n",
       "        mouse_event_fn(event);\n",
       "    });\n",
       "\n",
       "    canvas_div.append(canvas);\n",
       "    canvas_div.append(rubberband);\n",
       "\n",
       "    this.rubberband = rubberband;\n",
       "    this.rubberband_canvas = rubberband[0];\n",
       "    this.rubberband_context = rubberband[0].getContext(\"2d\");\n",
       "    this.rubberband_context.strokeStyle = \"#000000\";\n",
       "\n",
       "    this._resize_canvas = function(width, height) {\n",
       "        // Keep the size of the canvas, canvas container, and rubber band\n",
       "        // canvas in synch.\n",
       "        canvas_div.css('width', width)\n",
       "        canvas_div.css('height', height)\n",
       "\n",
       "        canvas.attr('width', width * mpl.ratio);\n",
       "        canvas.attr('height', height * mpl.ratio);\n",
       "        canvas.attr('style', 'width: ' + width + 'px; height: ' + height + 'px;');\n",
       "\n",
       "        rubberband.attr('width', width);\n",
       "        rubberband.attr('height', height);\n",
       "    }\n",
       "\n",
       "    // Set the figure to an initial 600x600px, this will subsequently be updated\n",
       "    // upon first draw.\n",
       "    this._resize_canvas(600, 600);\n",
       "\n",
       "    // Disable right mouse context menu.\n",
       "    $(this.rubberband_canvas).bind(\"contextmenu\",function(e){\n",
       "        return false;\n",
       "    });\n",
       "\n",
       "    function set_focus () {\n",
       "        canvas.focus();\n",
       "        canvas_div.focus();\n",
       "    }\n",
       "\n",
       "    window.setTimeout(set_focus, 100);\n",
       "}\n",
       "\n",
       "mpl.figure.prototype._init_toolbar = function() {\n",
       "    var fig = this;\n",
       "\n",
       "    var nav_element = $('<div/>')\n",
       "    nav_element.attr('style', 'width: 100%');\n",
       "    this.root.append(nav_element);\n",
       "\n",
       "    // Define a callback function for later on.\n",
       "    function toolbar_event(event) {\n",
       "        return fig.toolbar_button_onclick(event['data']);\n",
       "    }\n",
       "    function toolbar_mouse_event(event) {\n",
       "        return fig.toolbar_button_onmouseover(event['data']);\n",
       "    }\n",
       "\n",
       "    for(var toolbar_ind in mpl.toolbar_items) {\n",
       "        var name = mpl.toolbar_items[toolbar_ind][0];\n",
       "        var tooltip = mpl.toolbar_items[toolbar_ind][1];\n",
       "        var image = mpl.toolbar_items[toolbar_ind][2];\n",
       "        var method_name = mpl.toolbar_items[toolbar_ind][3];\n",
       "\n",
       "        if (!name) {\n",
       "            // put a spacer in here.\n",
       "            continue;\n",
       "        }\n",
       "        var button = $('<button/>');\n",
       "        button.addClass('ui-button ui-widget ui-state-default ui-corner-all ' +\n",
       "                        'ui-button-icon-only');\n",
       "        button.attr('role', 'button');\n",
       "        button.attr('aria-disabled', 'false');\n",
       "        button.click(method_name, toolbar_event);\n",
       "        button.mouseover(tooltip, toolbar_mouse_event);\n",
       "\n",
       "        var icon_img = $('<span/>');\n",
       "        icon_img.addClass('ui-button-icon-primary ui-icon');\n",
       "        icon_img.addClass(image);\n",
       "        icon_img.addClass('ui-corner-all');\n",
       "\n",
       "        var tooltip_span = $('<span/>');\n",
       "        tooltip_span.addClass('ui-button-text');\n",
       "        tooltip_span.html(tooltip);\n",
       "\n",
       "        button.append(icon_img);\n",
       "        button.append(tooltip_span);\n",
       "\n",
       "        nav_element.append(button);\n",
       "    }\n",
       "\n",
       "    var fmt_picker_span = $('<span/>');\n",
       "\n",
       "    var fmt_picker = $('<select/>');\n",
       "    fmt_picker.addClass('mpl-toolbar-option ui-widget ui-widget-content');\n",
       "    fmt_picker_span.append(fmt_picker);\n",
       "    nav_element.append(fmt_picker_span);\n",
       "    this.format_dropdown = fmt_picker[0];\n",
       "\n",
       "    for (var ind in mpl.extensions) {\n",
       "        var fmt = mpl.extensions[ind];\n",
       "        var option = $(\n",
       "            '<option/>', {selected: fmt === mpl.default_extension}).html(fmt);\n",
       "        fmt_picker.append(option)\n",
       "    }\n",
       "\n",
       "    // Add hover states to the ui-buttons\n",
       "    $( \".ui-button\" ).hover(\n",
       "        function() { $(this).addClass(\"ui-state-hover\");},\n",
       "        function() { $(this).removeClass(\"ui-state-hover\");}\n",
       "    );\n",
       "\n",
       "    var status_bar = $('<span class=\"mpl-message\"/>');\n",
       "    nav_element.append(status_bar);\n",
       "    this.message = status_bar[0];\n",
       "}\n",
       "\n",
       "mpl.figure.prototype.request_resize = function(x_pixels, y_pixels) {\n",
       "    // Request matplotlib to resize the figure. Matplotlib will then trigger a resize in the client,\n",
       "    // which will in turn request a refresh of the image.\n",
       "    this.send_message('resize', {'width': x_pixels, 'height': y_pixels});\n",
       "}\n",
       "\n",
       "mpl.figure.prototype.send_message = function(type, properties) {\n",
       "    properties['type'] = type;\n",
       "    properties['figure_id'] = this.id;\n",
       "    this.ws.send(JSON.stringify(properties));\n",
       "}\n",
       "\n",
       "mpl.figure.prototype.send_draw_message = function() {\n",
       "    if (!this.waiting) {\n",
       "        this.waiting = true;\n",
       "        this.ws.send(JSON.stringify({type: \"draw\", figure_id: this.id}));\n",
       "    }\n",
       "}\n",
       "\n",
       "\n",
       "mpl.figure.prototype.handle_save = function(fig, msg) {\n",
       "    var format_dropdown = fig.format_dropdown;\n",
       "    var format = format_dropdown.options[format_dropdown.selectedIndex].value;\n",
       "    fig.ondownload(fig, format);\n",
       "}\n",
       "\n",
       "\n",
       "mpl.figure.prototype.handle_resize = function(fig, msg) {\n",
       "    var size = msg['size'];\n",
       "    if (size[0] != fig.canvas.width || size[1] != fig.canvas.height) {\n",
       "        fig._resize_canvas(size[0], size[1]);\n",
       "        fig.send_message(\"refresh\", {});\n",
       "    };\n",
       "}\n",
       "\n",
       "mpl.figure.prototype.handle_rubberband = function(fig, msg) {\n",
       "    var x0 = msg['x0'] / mpl.ratio;\n",
       "    var y0 = (fig.canvas.height - msg['y0']) / mpl.ratio;\n",
       "    var x1 = msg['x1'] / mpl.ratio;\n",
       "    var y1 = (fig.canvas.height - msg['y1']) / mpl.ratio;\n",
       "    x0 = Math.floor(x0) + 0.5;\n",
       "    y0 = Math.floor(y0) + 0.5;\n",
       "    x1 = Math.floor(x1) + 0.5;\n",
       "    y1 = Math.floor(y1) + 0.5;\n",
       "    var min_x = Math.min(x0, x1);\n",
       "    var min_y = Math.min(y0, y1);\n",
       "    var width = Math.abs(x1 - x0);\n",
       "    var height = Math.abs(y1 - y0);\n",
       "\n",
       "    fig.rubberband_context.clearRect(\n",
       "        0, 0, fig.canvas.width, fig.canvas.height);\n",
       "\n",
       "    fig.rubberband_context.strokeRect(min_x, min_y, width, height);\n",
       "}\n",
       "\n",
       "mpl.figure.prototype.handle_figure_label = function(fig, msg) {\n",
       "    // Updates the figure title.\n",
       "    fig.header.textContent = msg['label'];\n",
       "}\n",
       "\n",
       "mpl.figure.prototype.handle_cursor = function(fig, msg) {\n",
       "    var cursor = msg['cursor'];\n",
       "    switch(cursor)\n",
       "    {\n",
       "    case 0:\n",
       "        cursor = 'pointer';\n",
       "        break;\n",
       "    case 1:\n",
       "        cursor = 'default';\n",
       "        break;\n",
       "    case 2:\n",
       "        cursor = 'crosshair';\n",
       "        break;\n",
       "    case 3:\n",
       "        cursor = 'move';\n",
       "        break;\n",
       "    }\n",
       "    fig.rubberband_canvas.style.cursor = cursor;\n",
       "}\n",
       "\n",
       "mpl.figure.prototype.handle_message = function(fig, msg) {\n",
       "    fig.message.textContent = msg['message'];\n",
       "}\n",
       "\n",
       "mpl.figure.prototype.handle_draw = function(fig, msg) {\n",
       "    // Request the server to send over a new figure.\n",
       "    fig.send_draw_message();\n",
       "}\n",
       "\n",
       "mpl.figure.prototype.handle_image_mode = function(fig, msg) {\n",
       "    fig.image_mode = msg['mode'];\n",
       "}\n",
       "\n",
       "mpl.figure.prototype.updated_canvas_event = function() {\n",
       "    // Called whenever the canvas gets updated.\n",
       "    this.send_message(\"ack\", {});\n",
       "}\n",
       "\n",
       "// A function to construct a web socket function for onmessage handling.\n",
       "// Called in the figure constructor.\n",
       "mpl.figure.prototype._make_on_message_function = function(fig) {\n",
       "    return function socket_on_message(evt) {\n",
       "        if (evt.data instanceof Blob) {\n",
       "            /* FIXME: We get \"Resource interpreted as Image but\n",
       "             * transferred with MIME type text/plain:\" errors on\n",
       "             * Chrome.  But how to set the MIME type?  It doesn't seem\n",
       "             * to be part of the websocket stream */\n",
       "            evt.data.type = \"image/png\";\n",
       "\n",
       "            /* Free the memory for the previous frames */\n",
       "            if (fig.imageObj.src) {\n",
       "                (window.URL || window.webkitURL).revokeObjectURL(\n",
       "                    fig.imageObj.src);\n",
       "            }\n",
       "\n",
       "            fig.imageObj.src = (window.URL || window.webkitURL).createObjectURL(\n",
       "                evt.data);\n",
       "            fig.updated_canvas_event();\n",
       "            fig.waiting = false;\n",
       "            return;\n",
       "        }\n",
       "        else if (typeof evt.data === 'string' && evt.data.slice(0, 21) == \"data:image/png;base64\") {\n",
       "            fig.imageObj.src = evt.data;\n",
       "            fig.updated_canvas_event();\n",
       "            fig.waiting = false;\n",
       "            return;\n",
       "        }\n",
       "\n",
       "        var msg = JSON.parse(evt.data);\n",
       "        var msg_type = msg['type'];\n",
       "\n",
       "        // Call the  \"handle_{type}\" callback, which takes\n",
       "        // the figure and JSON message as its only arguments.\n",
       "        try {\n",
       "            var callback = fig[\"handle_\" + msg_type];\n",
       "        } catch (e) {\n",
       "            console.log(\"No handler for the '\" + msg_type + \"' message type: \", msg);\n",
       "            return;\n",
       "        }\n",
       "\n",
       "        if (callback) {\n",
       "            try {\n",
       "                // console.log(\"Handling '\" + msg_type + \"' message: \", msg);\n",
       "                callback(fig, msg);\n",
       "            } catch (e) {\n",
       "                console.log(\"Exception inside the 'handler_\" + msg_type + \"' callback:\", e, e.stack, msg);\n",
       "            }\n",
       "        }\n",
       "    };\n",
       "}\n",
       "\n",
       "// from http://stackoverflow.com/questions/1114465/getting-mouse-location-in-canvas\n",
       "mpl.findpos = function(e) {\n",
       "    //this section is from http://www.quirksmode.org/js/events_properties.html\n",
       "    var targ;\n",
       "    if (!e)\n",
       "        e = window.event;\n",
       "    if (e.target)\n",
       "        targ = e.target;\n",
       "    else if (e.srcElement)\n",
       "        targ = e.srcElement;\n",
       "    if (targ.nodeType == 3) // defeat Safari bug\n",
       "        targ = targ.parentNode;\n",
       "\n",
       "    // jQuery normalizes the pageX and pageY\n",
       "    // pageX,Y are the mouse positions relative to the document\n",
       "    // offset() returns the position of the element relative to the document\n",
       "    var x = e.pageX - $(targ).offset().left;\n",
       "    var y = e.pageY - $(targ).offset().top;\n",
       "\n",
       "    return {\"x\": x, \"y\": y};\n",
       "};\n",
       "\n",
       "/*\n",
       " * return a copy of an object with only non-object keys\n",
       " * we need this to avoid circular references\n",
       " * http://stackoverflow.com/a/24161582/3208463\n",
       " */\n",
       "function simpleKeys (original) {\n",
       "  return Object.keys(original).reduce(function (obj, key) {\n",
       "    if (typeof original[key] !== 'object')\n",
       "        obj[key] = original[key]\n",
       "    return obj;\n",
       "  }, {});\n",
       "}\n",
       "\n",
       "mpl.figure.prototype.mouse_event = function(event, name) {\n",
       "    var canvas_pos = mpl.findpos(event)\n",
       "\n",
       "    if (name === 'button_press')\n",
       "    {\n",
       "        this.canvas.focus();\n",
       "        this.canvas_div.focus();\n",
       "    }\n",
       "\n",
       "    var x = canvas_pos.x * mpl.ratio;\n",
       "    var y = canvas_pos.y * mpl.ratio;\n",
       "\n",
       "    this.send_message(name, {x: x, y: y, button: event.button,\n",
       "                             step: event.step,\n",
       "                             guiEvent: simpleKeys(event)});\n",
       "\n",
       "    /* This prevents the web browser from automatically changing to\n",
       "     * the text insertion cursor when the button is pressed.  We want\n",
       "     * to control all of the cursor setting manually through the\n",
       "     * 'cursor' event from matplotlib */\n",
       "    event.preventDefault();\n",
       "    return false;\n",
       "}\n",
       "\n",
       "mpl.figure.prototype._key_event_extra = function(event, name) {\n",
       "    // Handle any extra behaviour associated with a key event\n",
       "}\n",
       "\n",
       "mpl.figure.prototype.key_event = function(event, name) {\n",
       "\n",
       "    // Prevent repeat events\n",
       "    if (name == 'key_press')\n",
       "    {\n",
       "        if (event.which === this._key)\n",
       "            return;\n",
       "        else\n",
       "            this._key = event.which;\n",
       "    }\n",
       "    if (name == 'key_release')\n",
       "        this._key = null;\n",
       "\n",
       "    var value = '';\n",
       "    if (event.ctrlKey && event.which != 17)\n",
       "        value += \"ctrl+\";\n",
       "    if (event.altKey && event.which != 18)\n",
       "        value += \"alt+\";\n",
       "    if (event.shiftKey && event.which != 16)\n",
       "        value += \"shift+\";\n",
       "\n",
       "    value += 'k';\n",
       "    value += event.which.toString();\n",
       "\n",
       "    this._key_event_extra(event, name);\n",
       "\n",
       "    this.send_message(name, {key: value,\n",
       "                             guiEvent: simpleKeys(event)});\n",
       "    return false;\n",
       "}\n",
       "\n",
       "mpl.figure.prototype.toolbar_button_onclick = function(name) {\n",
       "    if (name == 'download') {\n",
       "        this.handle_save(this, null);\n",
       "    } else {\n",
       "        this.send_message(\"toolbar_button\", {name: name});\n",
       "    }\n",
       "};\n",
       "\n",
       "mpl.figure.prototype.toolbar_button_onmouseover = function(tooltip) {\n",
       "    this.message.textContent = tooltip;\n",
       "};\n",
       "mpl.toolbar_items = [[\"Home\", \"Reset original view\", \"fa fa-home icon-home\", \"home\"], [\"Back\", \"Back to  previous view\", \"fa fa-arrow-left icon-arrow-left\", \"back\"], [\"Forward\", \"Forward to next view\", \"fa fa-arrow-right icon-arrow-right\", \"forward\"], [\"\", \"\", \"\", \"\"], [\"Pan\", \"Pan axes with left mouse, zoom with right\", \"fa fa-arrows icon-move\", \"pan\"], [\"Zoom\", \"Zoom to rectangle\", \"fa fa-square-o icon-check-empty\", \"zoom\"], [\"\", \"\", \"\", \"\"], [\"Download\", \"Download plot\", \"fa fa-floppy-o icon-save\", \"download\"]];\n",
       "\n",
       "mpl.extensions = [\"eps\", \"jpeg\", \"pdf\", \"png\", \"ps\", \"raw\", \"svg\", \"tif\"];\n",
       "\n",
       "mpl.default_extension = \"png\";var comm_websocket_adapter = function(comm) {\n",
       "    // Create a \"websocket\"-like object which calls the given IPython comm\n",
       "    // object with the appropriate methods. Currently this is a non binary\n",
       "    // socket, so there is still some room for performance tuning.\n",
       "    var ws = {};\n",
       "\n",
       "    ws.close = function() {\n",
       "        comm.close()\n",
       "    };\n",
       "    ws.send = function(m) {\n",
       "        //console.log('sending', m);\n",
       "        comm.send(m);\n",
       "    };\n",
       "    // Register the callback with on_msg.\n",
       "    comm.on_msg(function(msg) {\n",
       "        //console.log('receiving', msg['content']['data'], msg);\n",
       "        // Pass the mpl event to the overriden (by mpl) onmessage function.\n",
       "        ws.onmessage(msg['content']['data'])\n",
       "    });\n",
       "    return ws;\n",
       "}\n",
       "\n",
       "mpl.mpl_figure_comm = function(comm, msg) {\n",
       "    // This is the function which gets called when the mpl process\n",
       "    // starts-up an IPython Comm through the \"matplotlib\" channel.\n",
       "\n",
       "    var id = msg.content.data.id;\n",
       "    // Get hold of the div created by the display call when the Comm\n",
       "    // socket was opened in Python.\n",
       "    var element = $(\"#\" + id);\n",
       "    var ws_proxy = comm_websocket_adapter(comm)\n",
       "\n",
       "    function ondownload(figure, format) {\n",
       "        window.open(figure.imageObj.src);\n",
       "    }\n",
       "\n",
       "    var fig = new mpl.figure(id, ws_proxy,\n",
       "                           ondownload,\n",
       "                           element.get(0));\n",
       "\n",
       "    // Call onopen now - mpl needs it, as it is assuming we've passed it a real\n",
       "    // web socket which is closed, not our websocket->open comm proxy.\n",
       "    ws_proxy.onopen();\n",
       "\n",
       "    fig.parent_element = element.get(0);\n",
       "    fig.cell_info = mpl.find_output_cell(\"<div id='\" + id + \"'></div>\");\n",
       "    if (!fig.cell_info) {\n",
       "        console.error(\"Failed to find cell for figure\", id, fig);\n",
       "        return;\n",
       "    }\n",
       "\n",
       "    var output_index = fig.cell_info[2]\n",
       "    var cell = fig.cell_info[0];\n",
       "\n",
       "};\n",
       "\n",
       "mpl.figure.prototype.handle_close = function(fig, msg) {\n",
       "    var width = fig.canvas.width/mpl.ratio\n",
       "    fig.root.unbind('remove')\n",
       "\n",
       "    // Update the output cell to use the data from the current canvas.\n",
       "    fig.push_to_output();\n",
       "    var dataURL = fig.canvas.toDataURL();\n",
       "    // Re-enable the keyboard manager in IPython - without this line, in FF,\n",
       "    // the notebook keyboard shortcuts fail.\n",
       "    IPython.keyboard_manager.enable()\n",
       "    $(fig.parent_element).html('<img src=\"' + dataURL + '\" width=\"' + width + '\">');\n",
       "    fig.close_ws(fig, msg);\n",
       "}\n",
       "\n",
       "mpl.figure.prototype.close_ws = function(fig, msg){\n",
       "    fig.send_message('closing', msg);\n",
       "    // fig.ws.close()\n",
       "}\n",
       "\n",
       "mpl.figure.prototype.push_to_output = function(remove_interactive) {\n",
       "    // Turn the data on the canvas into data in the output cell.\n",
       "    var width = this.canvas.width/mpl.ratio\n",
       "    var dataURL = this.canvas.toDataURL();\n",
       "    this.cell_info[1]['text/html'] = '<img src=\"' + dataURL + '\" width=\"' + width + '\">';\n",
       "}\n",
       "\n",
       "mpl.figure.prototype.updated_canvas_event = function() {\n",
       "    // Tell IPython that the notebook contents must change.\n",
       "    IPython.notebook.set_dirty(true);\n",
       "    this.send_message(\"ack\", {});\n",
       "    var fig = this;\n",
       "    // Wait a second, then push the new image to the DOM so\n",
       "    // that it is saved nicely (might be nice to debounce this).\n",
       "    setTimeout(function () { fig.push_to_output() }, 1000);\n",
       "}\n",
       "\n",
       "mpl.figure.prototype._init_toolbar = function() {\n",
       "    var fig = this;\n",
       "\n",
       "    var nav_element = $('<div/>')\n",
       "    nav_element.attr('style', 'width: 100%');\n",
       "    this.root.append(nav_element);\n",
       "\n",
       "    // Define a callback function for later on.\n",
       "    function toolbar_event(event) {\n",
       "        return fig.toolbar_button_onclick(event['data']);\n",
       "    }\n",
       "    function toolbar_mouse_event(event) {\n",
       "        return fig.toolbar_button_onmouseover(event['data']);\n",
       "    }\n",
       "\n",
       "    for(var toolbar_ind in mpl.toolbar_items){\n",
       "        var name = mpl.toolbar_items[toolbar_ind][0];\n",
       "        var tooltip = mpl.toolbar_items[toolbar_ind][1];\n",
       "        var image = mpl.toolbar_items[toolbar_ind][2];\n",
       "        var method_name = mpl.toolbar_items[toolbar_ind][3];\n",
       "\n",
       "        if (!name) { continue; };\n",
       "\n",
       "        var button = $('<button class=\"btn btn-default\" href=\"#\" title=\"' + name + '\"><i class=\"fa ' + image + ' fa-lg\"></i></button>');\n",
       "        button.click(method_name, toolbar_event);\n",
       "        button.mouseover(tooltip, toolbar_mouse_event);\n",
       "        nav_element.append(button);\n",
       "    }\n",
       "\n",
       "    // Add the status bar.\n",
       "    var status_bar = $('<span class=\"mpl-message\" style=\"text-align:right; float: right;\"/>');\n",
       "    nav_element.append(status_bar);\n",
       "    this.message = status_bar[0];\n",
       "\n",
       "    // Add the close button to the window.\n",
       "    var buttongrp = $('<div class=\"btn-group inline pull-right\"></div>');\n",
       "    var button = $('<button class=\"btn btn-mini btn-primary\" href=\"#\" title=\"Stop Interaction\"><i class=\"fa fa-power-off icon-remove icon-large\"></i></button>');\n",
       "    button.click(function (evt) { fig.handle_close(fig, {}); } );\n",
       "    button.mouseover('Stop Interaction', toolbar_mouse_event);\n",
       "    buttongrp.append(button);\n",
       "    var titlebar = this.root.find($('.ui-dialog-titlebar'));\n",
       "    titlebar.prepend(buttongrp);\n",
       "}\n",
       "\n",
       "mpl.figure.prototype._root_extra_style = function(el){\n",
       "    var fig = this\n",
       "    el.on(\"remove\", function(){\n",
       "\tfig.close_ws(fig, {});\n",
       "    });\n",
       "}\n",
       "\n",
       "mpl.figure.prototype._canvas_extra_style = function(el){\n",
       "    // this is important to make the div 'focusable\n",
       "    el.attr('tabindex', 0)\n",
       "    // reach out to IPython and tell the keyboard manager to turn it's self\n",
       "    // off when our div gets focus\n",
       "\n",
       "    // location in version 3\n",
       "    if (IPython.notebook.keyboard_manager) {\n",
       "        IPython.notebook.keyboard_manager.register_events(el);\n",
       "    }\n",
       "    else {\n",
       "        // location in version 2\n",
       "        IPython.keyboard_manager.register_events(el);\n",
       "    }\n",
       "\n",
       "}\n",
       "\n",
       "mpl.figure.prototype._key_event_extra = function(event, name) {\n",
       "    var manager = IPython.notebook.keyboard_manager;\n",
       "    if (!manager)\n",
       "        manager = IPython.keyboard_manager;\n",
       "\n",
       "    // Check for shift+enter\n",
       "    if (event.shiftKey && event.which == 13) {\n",
       "        this.canvas_div.blur();\n",
       "        event.shiftKey = false;\n",
       "        // Send a \"J\" for go to next cell\n",
       "        event.which = 74;\n",
       "        event.keyCode = 74;\n",
       "        manager.command_mode();\n",
       "        manager.handle_keydown(event);\n",
       "    }\n",
       "}\n",
       "\n",
       "mpl.figure.prototype.handle_save = function(fig, msg) {\n",
       "    fig.ondownload(fig, null);\n",
       "}\n",
       "\n",
       "\n",
       "mpl.find_output_cell = function(html_output) {\n",
       "    // Return the cell and output element which can be found *uniquely* in the notebook.\n",
       "    // Note - this is a bit hacky, but it is done because the \"notebook_saving.Notebook\"\n",
       "    // IPython event is triggered only after the cells have been serialised, which for\n",
       "    // our purposes (turning an active figure into a static one), is too late.\n",
       "    var cells = IPython.notebook.get_cells();\n",
       "    var ncells = cells.length;\n",
       "    for (var i=0; i<ncells; i++) {\n",
       "        var cell = cells[i];\n",
       "        if (cell.cell_type === 'code'){\n",
       "            for (var j=0; j<cell.output_area.outputs.length; j++) {\n",
       "                var data = cell.output_area.outputs[j];\n",
       "                if (data.data) {\n",
       "                    // IPython >= 3 moved mimebundle to data attribute of output\n",
       "                    data = data.data;\n",
       "                }\n",
       "                if (data['text/html'] == html_output) {\n",
       "                    return [cell, data, j];\n",
       "                }\n",
       "            }\n",
       "        }\n",
       "    }\n",
       "}\n",
       "\n",
       "// Register the function which deals with the matplotlib target/channel.\n",
       "// The kernel may be null if the page has been refreshed.\n",
       "if (IPython.notebook.kernel != null) {\n",
       "    IPython.notebook.kernel.comm_manager.register_target('matplotlib', mpl.mpl_figure_comm);\n",
       "}\n"
      ],
      "text/plain": [
       "<IPython.core.display.Javascript object>"
      ]
     },
     "metadata": {},
     "output_type": "display_data"
    },
    {
     "data": {
      "text/html": [
       "<img src=\"data:image/png;base64,iVBORw0KGgoAAAANSUhEUgAAAoAAAAHgCAYAAAA10dzkAAAgAElEQVR4XuydB3gVxfqHf/Qeeu9IR2lWQEWxYr12saLXa7n23gX7316uvXfsvTcUC6KIBRCk995Cb4H/820Jm3CSnJNJlhPzzn3yXDmZ2Z1999uTd2dnvi0jCgQgAAEIQAACEIBAqSJQplQdLQcLAQhAAAIQgAAEICAEkCCAAAQgAAEIQAACpYwAAljKTjiHCwEIQAACEIAABBBAYgACEIAABCAAAQiUMgIIYCk74RwuBCAAAQhAAAIQQACJAQhAAAIQgAAEIFDKCCCApeyEc7gQgAAEIAABCEAAASQGIAABCEAAAhCAQCkjgACWshPO4UIAAhCAAAQgAAEEkBiAAAQgAAEIQAACpYwAAljKTjiHCwEIQAACEIAABBBAYgACEIAABCAAAQiUMgIIYCk74RwuBCAAAQhAAAIQQACJAQhAAAIQgAAEIFDKCCCApeyEc7gQgAAEIAABCEAAASQGIAABCEAAAhCAQCkjgACWshPO4UIAAhCAAAQgAAEEkBiAAAQgAAEIQAACpYwAAljKTjiHCwEIQAACEIAABBBAYgACEIAABCAAAQiUMgIIYCk74RwuBCAAAQhAAAIQQACJAQhAAAIQgAAEIFDKCCCApeyEc7gQgAAEIAABCEAAASQGIAABCEAAAhCAQCkjgACWshPO4UIAAhCAAAQgAAEEkBiAAAQgAAEIQAACpYwAAljKTjiHCwEIQAACEIAABBBAYgACEIAABCAAAQiUMgIIYCk74RwuBCAAAQhAAAIQQACJAQhAAAIQgAAEIFDKCCCApeyEc7gQgAAEIAABCEAAASQGIAABCEAAAhCAQCkjgACWshPO4UIAAhCAAAQgAAEEkBiAAAQgAAEIQAACpYwAAljKTjiHCwEIQAACEIAABBBAYgACEIAABCAAAQiUMgIIYCk74RwuBCAAAQhAAAIQQACJAQhAAAIQgAAEIFDKCCCApeyEc7gQgAAEIAABCEAAASQGIAABCEAAAhCAQCkjgACWshPO4UIAAhCAAAQgAAEEkBiAAAQgAAEIQAACpYwAAljKTjiHCwEIQAACEIAABBBAYgACEIAABCAAAQiUMgIIYCk74RwuBCAAAQhAAAIQQACJAQhAAAIQgAAEIFDKCCCApeyEc7gQgAAEIAABCEAAASQGIAABCEAAAhCAQCkjgACWshPO4UIAAhCAAAQgAAEEkBiAAAQgAAEIQAACpYwAAljKTjiHCwEIQAACEIAABBBAYgACEIAABCAAAQiUMgIIYCk74RwuBCAAAQhAAAIQQACJAQhAAAIQgAAEIFDKCCCApeyEc7gQgAAEIAABCECgpArgYEmDcp2++ZIaBZ/Zcdnvz5RUW9IISedKGhtpY58/KOmw4LP3JZ0vaRlhAQEIQAACEIAABP7JBEqyAB4tad/IycmStDD495WSrpU0UNIESddJ2lNSB0krgjqfSGoWSKJ99ISkaZIOTeGEG78mkW2m0JSqEIAABCAAAQhsQwI1JM2RtHkb9mGb7bokC+C/JHVPQM6OyU7o/ZLuCH5fSZKNEJoYPi6pk6S/JO0WjA5aNfvv4ZI6Svo7yTPSVNKsJOtSDQIQgAAEIACB9CJgA0Gz06tL8fSmJAvg5ZIyJa0LJO4aSVMktZE0WVJPSb9FML4XPN49VdLpku6VVCsXZnv8e7GkZ5PEn2F9mDlzpjIy7D8pEIAABCAAAQikO4Hly5erefPm1s2akpane3+Lo38lVQD7S6oaPN5tGDzitZG7LsFj3h8k2eicjQSGxR7xtpR0gCSTRXs83D4XVHtcbPJ3ex6wbSTRfsJiw8ezMjMzEcDiiE62CQEIQAACECgGAiaANWua+yGAxYA31k1WC0b97pT0kyQTQJubNzfSiyclme4fGAigjQTanMBomSjpaUn/l0fvEy0+EQIY67lmZxCAAAQgAAEnAgigVFJHABOd+C8kTZJ0VzE+AmYE0OmSozEEIAABCEBg2xNAAP85AmhiZvP+7DHvzcGj3/sk2YiglYqSFiRYBLKrpJ+DOvbfNnqYyiIQbw4gI4Db/mKmBxCAAAQgAIFkCSCAJVcA75b0gaQZkhoEcwD7StpB0vRA9K6WdJoke6xrc/72SpAGxh4TnxUEjMmjtU0lDQwCmOzVRj0IQAACEIBAmhBAAEuuAL4a5PWrF+T+s5G764PULhZeYSJok7toIugxkdirkyAR9HkpJoJGANPkYqYbEIAABCAAgWQJIIAlVwCTPcfFXQ8BLG7CbB8CEIAABCBQxAQQQATQNaQQQFeCtIcABCAAAQjETAABRABdQw4BdCVIewhAAAIQgEDMBBBABNA15BBAV4K0hwAEIAABCMRMAAFEAF1DDgF0JUh7CEAAAhCAQMwEEEAE0DXkEEBXgrSHAAQgAAEIxEwAAUQAXUMOAXQlSHsIQAACEIBAzAQQQATQNeQQQFeCtI+VwOoNq/XyuJe1S+Nd1LlOZ/V8qae3/9Gnjo61H+wMAhCAwLYkgAAigK7xhwC6EqR9bAR+X/C7Tv7k5IT7e/PQN9WhTofY+sKOIAABCGxLAgggAugafyVSADdu2qinRj+l4XOGa9SCUWqV0UqvHPyKalSs4cqD9mlMYIfn7U2JictLB72kbvW7pXHv6VpcBNZlrVOlcvZ69X9u+WH2Dxoxb4Qu6HGBypctX+CBzlwxUyd9fJLO7X6uju1wbIH1XSrY9/OmzZtUsZy9wp5SXAQQQATQNbaKXQCnLJuiulXqqmalmspcl+n9v31B7/vGvjqr61nq16KfpmVOU/cG3VW1QlV9Mf0L2Zfb6dufrhYZLbzjsy8TK+OWjFP72u014MMB+nvp3zmOvU+TPnpsv8eUtSlL5cqW24rL4jWLVaZMGdWpbG/Q88uStUtUq1ItzV01V7Ur1dbYxWN1+men69WDX/VGk8qVKacNmzZo+frlXt0Zy2fowd8e1GU7XaY9m+3pbWPz5s3q+kJX779/P/l3LVyzULavR/54RBf3vFhta7dNeI5+nf+rpmZO1eFtD1eFshU8JhuyNqhahWpavHaxFq1ZpO1qbach44Zo3up5mpI5Rce0P0Z7NdvLOz7brx1PWOzfVqKfzVk5Rw2rNkzIw5ham8z1mR6TRO3Dbdtj10nLJqlT3U7eufpqxlc6uv3RWrh6oZrWaKqMihZGWxfbR9kyZb1ffDD5AzWt3tQ7f3aM0X7mF8TWLxP9drXbqd8b/fKsenyH4706xii6bYuH8BjD8xX+fn3W+q3+SNmx2u+rlK/i7cuOt0HVBl5sJirWP4sRO+eNqzfOrmLbsfPYvEZzL+4rl68s+8y2Uxg5sba2neg+8oJhfbL/hezDf1s/bd92Xuavmp/ntsLzZvXLlynv8Zi+fLp3Ho5qd5Q2bt6oVRtWeXFr13NYwus7/Lfto1blWjIhWLtxrTIqZXhtXIsdj21z4rKJalKtiXcT2KZmG7Wq2UrPj31ed4+0V61Lf57yZ9JxZn2374GOdTrm6N7EpRO9uDWZyS1ado3a90ai75v8jnHl+pW64ccbdGCrA7V/q/1TwmFx8MnUTzR4+GCv3X4t99O9e92bYxvfz/7e49Gkur0qPud3lP27OKZLRL+Pdnl5F63ZuEYjThiR53WT+6CN5RsT3tCRbY9Uw2oN82QyeuFonfDxCXrmgGe0c6OdvXrGZPbK2d71b+fRruv6Vet7cW7XfzhNJJV4SOmkbKPKCCAC6Bp6xSKA9gXX97W+Wr9p/Vb961K3iydalPgJ7NV8L30z85v4d7yN9njNrtfothG3Jb33FjVaaMaKGXnWr16hulZuWJn9+10a7aKf5/2c9PapuIWAiaXd/Lw18a1/DJZejXtp+Nzh+R5PzwY9PWENiwmniXrbWm21fN1yValQxRMYu8myUrFsxYTfoy7QTOJD7iZRdiN+xudneJs8Y4czvKcrVg7b7jC9P/n9rXbVt1lfda3fVW9PfNsTr/Dm3iru0XQPfTf7O6/N/XvfL7tG/u/n/9PoRaO9m9dnxz6rupXr6oKeF+jh3x/WgtULvGO3G0wrtq1XDnpF5351rndjajdMc1fO1ZxVczypjJaTO5+sF/96MfujlhktvRuVvMqQg4d4Im9Sb9et3aCc2OlE72bbbtzthvmzaZ9513inOp00qPcg7+Z25LyRnrBXLV9VN/a5UZd/e7nC82g3VE/u/6Q3OGDn8Zrvr/GOwZjaoMSCNQu8m+teTXq5nLKEbRFABNA1qIpFAO0C+XTap659oz0E8iRQo0IN9W3eVx9O+RBKEIAABNKagI3S2mhtURYEEAF0jadiEcD85mq5dpj2EPji6C/UqFojDwSxRjxAAAIlgUBRP3pHABFA17gv0QJojyhsSP/NCW+6cqB9CSIQ/SJFAEvQiaOrECjFBBDAoj/5W2bBF/22S8MWi0UAh4wfktLcq1RBn9TpJNmqNhtWt0nlNj/j3UnvproZr37uOTnJbsTmhtjiECu5555E59gUtD1bubxi/YqCqmX/3hYk2LyZdCg2R8cWx8Rdol+kM5fP1EHvHFSsXbDJ/7bogAIBCECgMAQe2ecR7dFsj8I0zbMNI4CMALoGVLEIYLRTthJrwtIJ3iTfvZvvrTIqk70yzKTNVlse0OoAb6KsrYq1VZO26tBW4E5dPlW2oKRZjWayCfipphWwFWC2IrBHgx75rrazfZtQXjj0Qm+y7u5Ndvf+P9mVqraC956R93iTnHs37e0d/jNjnvFE7cqdr8zejk1mtsndR7Y70lutVq9qvRyrIuetmuetkDUptFWWNhn8lfGveBOpd2q401arfqP9s+3ZhGRbbWrFcubZtmpXrq1R80dp7xZ7e/sykTG2H039yKu/b4t9PZENJ2PbJPazvjjLP4YDnvEmQ9s5svNofTHhO6j1QTly7v0892c98ecT3j6Mm61AzJ2Kw/r38dSP1a95Py1dt9SbiL1vy321aPUir8927JbWYmCXgd5qS1tVa6tGxy4aqy71ungrpH+Z94v33/Wq1Ms37hOtaLZV1I2qNvL6ZUyshCsXE9V/bfxremrMU3p8v8e947E6xilc9WqxZRPgbVVuuLLVViPa4qe1WWu91bKDe/srNY2dnQNb1W43RzYXyCbCh6sd35rwlncD80C/B3KsUo8epMWDxY4t5Em06tr4hjcTtpLe9mET2m3Vtf3YZHo7d3Yc1StW14VfX6idGu3k7cKuD1vRbdu2ftik/PB345eM9/pUv0p9L42Irah+/ZDXvWPP2pylcYvHeTdgVmxxwPk9zvdWzdpEentMb+ft1wW/eqvAT+h4gregYfCPg70FBnaubQXt5GWTvb7aCm47t2Fch+fHVhCHcR0ysWP5cc6P3nHa7y1+wjyQxrvbC35KoB3q7eCliApXg1sM7dNin+wVvfb5gI8GeBkGbPHBDvX9VEO2QMAWGFSrWE1ndz3bWxxk30XzV8/3Fg00q95Mi9Yu8hYd2Dl9Yr8n1Lpma++aM5Z2DHaO7byFq97teOw6s5s4286IuSN0SJtDvMUDtmr7twW/edebnSs7JluVbN9Ldi3Yogs7D3u+5mcfsBWtYfaBu/repV0b7aqnRz/txd61u17r7d/2Z5wsHoyJXXeP/fFYjmuncbXGemr/p7zfWZx8NOUjL55Hzh/pxYJlY7DvMisP7P2AV6f/2/29f5/Z9UzvnFmWB8v28PXMr73zPXD7gV6WB1u08eDeD3oZE+w8/73kb68/lq5p2vJp3gpuW4xy/6j7vRW89nn0ac4de9yhB0Y9oOf7P6+bf7pZw2YN2+q6N3b/2eE/XszatuzasNiNLv7q07SPl1kiWmwR0oBOA2QLd2whTK9Xenmr261Yah271uzcWTzfOPxGL/PDro139fpqC3Mse4UtaPxyxpfeedyx4Y4a0HGAt5LZFr3Y9u/se6e3Stz4WGwUdUEAEUDXmCp2AXTtIO3jJ2Cr4Sz9SSiz8feg5O7RxMH+EB6+3eFJp8AouUfr99zky8QtmXx0cR2ryfrQGUM9QcwrhU+0L5byprApanKnZCrOY1y6dqknjNH0O6nsz4TVBMZuXEzWKpRLPS2PibDdFKaa/iaVfiaq++3Mb72bZhOvZJibwNnNrt3o2spkuyExgbViN8K54zVMjRX3cRWWCwKIABY2dsJ2CKArQdpDAAIQiJvA+tXS4klSox0s+Wfce2d/aUAAAUQAXcMQAXQlSHsIQAACcRN4ch9p9kjpmOelLv8qeO8b10lTvpFa9pEqVS+4PjXSngACiAC6BikC6EqQ9hCAAATiJjA4eANL232lk5JIpv3p1dJPj0gdDpYGvFK8vf3lKcnenNP9hKLfj4nstO+kFr2lionfzlP0O03PLSKACKBrZCKArgSt/Q8PSiOfkQZ+JNVsWhRbZBsQgEBhCSyeLNVsLpX/B7+LNhTAdvtLJ75RMKkb60ibs/x6gzMLrl/YGpmzpfs6+62vmilVTvyayMJuXp9cKY14TOp8uHTsC4XezD+hIQKIALrGMQLoStD7Qg3uxhtuL52Tc7VZUWyebUAAAkkSeO886bfg9WDFKTpJdqfYqoXfOe0PlE54reDd3FxfygpezVmcXBZNkh7a0e/PEY9L3Y4vuG+p1AiPOxWRnT5cqt5AqrtdKntK+7oIIALoGqQIoCvBqACm8qVUFPtlGxCAQE4CUUG4ZJyU0eSfSSg8zmQf6RZGnApDbslU6cHufsvtj5aOfrowW8m7TarHsWCc9Mhu/vZuWCqVLVu0/dmGW0MAEUDX8EMAXQlGBTDZ+ThFsU+2AQEIbE0gKginfSK19PNy/uNKeJyt9pAGJvE+7FTFqbDA5v4hPe7nKlSbvaRT3kt+SysX+CN1+ZVUj+PLwdL39/lbvHyyVC3/HKLJd3bb10QAEUDXKEQAowRn/So91U9K5Q/Hpk3STX5iYTXqKp39nes5oT0EIFBYAlFBOOppaYejC7ul9G0X/c7pcqR0zLMF9zVVcSp4i4lr/P2pNOQ4/3epTIl57WRp3PvSXldLe12V995TPY6Xj5UmfuZv7+K/tszRXr9KKluhRM8TRQARwMJepmE7BDBKMNUvF2trq9JuCe5adzhGOuop13NCewikH4FNWdKKuVLNZoXrW9ZG6Y9XpLb7SRmNC7eNZFpFr2GrX5zz3ZLpT3HUWbtc+r/m/pZ7niId9r+C91KY77aCt7p1janDpOcP9T+v3lC6bEJyW0m2f8nWC/d6bxdp+Sz/X+eP8ucB2nf2A92kClX8z0poHkUEEAFM7uLKuxYCWFgBXJspVa4prVwo3d3W30q3E6QjHnU9J7RPhcDyOVLVulL5Sqm0om6qBMI/vMe9LHU6JNXW0th3pTdO9dsVp5SVBgG0mL+3UyCAp0qHPVjw+UhVnAreYuIao9+U3vq3/7syZaVBS5PbUrL9S7ZeuNdo/f/+JDXoJI37QHrtJL9GcaxUTu6InWshgAigaxAVvwBaSobarbeefLtqsZ8iIPeriDasldatkEa/IbXdR6rfwT/GzZv9EQib1LtintTjxLyP3aTs/h2k3S+Sepzs3+l9fp30+8vSsS9KnQ/zt2d3fquXSGXLSZUypBtrbdnmxWMl+6K1TPvzx0ovHimd/I7UtKf020vS++dJ/a6TqtSWPrrUb9f1OKnXuVK5SlKDjtL8v6RFE/xErSvmSxM+8etYf8Ji/bBi/bA0DTYHJmuDz8V+Z/NXTDbt0Yh9odrn9gaAWi0SS489HrLjsh9rv2mjVLZ88IUcfDZ7lN+/itW29MPaWX4tO96qdXKyDbeT6LVR4z/2+9zMf69swmLHlnubVnHBeJ9F7Zb5x/G6ldL6lf4jmzdPk6Z+u3X9G5b4fFzu5jes2XJuFk7wR7uSzTVmcVvBfw/zVsXOp52DVPoWxkWiNkunS+UqFt1IWngzk9dZ2LheuqX+lt8WRuBuby6tW+5vozDt84+QSN+CFfn2yY4DpUMfSLZletWzEdcNq6VKNbbu15RvpRcO8z/vNkA6Iuf7fRMeSKriVFga93aWls9OPVaS7V+y9cIeROuf+Y3UpMeWrA1WpwQvFEIAEcDCXqZhu+IRwGUzpDdPl2b94tq//NuHq7psPsdtabDar3E3ySZBl6Ri8xbtD/PSaVt63b6/L1wmhHkVk+EXjyjckXY8RBofmbhepY60ZknibZn0bdpQuP1YKxMvu+s/4glp9aItj6cKv8WCWxo/k/1kiolcmJ4jmfp51anWwBfWOq2lMUFiYMsRZwIx7kP/d3YTYTcZvz4vzfgx55bKV5E2rvE/a2g3PaOlvOLZZHvKUOmPV6WD75G+vkX6+QlfSu1YajSR+l4u2Zza1ntIlqrkjojkX7/Yj7l3z/FvYixdyP+19EdyLY3SkinSsLukPhdKP/5PqlZfmv2rtOAvafMmv4+HPyJN/1H6/SXJjn2XM/0bg2jM7nGZtM/1fv1ZI/0bxxa9/DpNd/QfBU76UqrfXmrdV5rxk/TF9dJ2+/g3QrVbSTOGSx7HDOmuNlLj7tJJb0urF0tvnyH1u96/ebPFBdv1kzJn+azt93bTaX084FZ/xMlu2va/1R+B2v1iX/AyZ/pSYvnz7E0dfa/wr707Wm19psPzEv1NlyOkY57zP7Gb6j9fleyGaeU8/1zYzWrFGtL6FVtamYCvWuTfvHo3mxWlX56UPrlC6n+XtP2R/vHYTYj9zPnNZ/TdPZJdqz1OkiZ8KtVrL9Vq6TMa/bq097XSFzdIEz/fsi+LlT9fl7LW+ft7/RTpojH++W2+i1S+srT9UTlvvs/7VXrtRGm/m/wpA3bOx74t2SKRz6/NeRzZfRwlNezi38DZDY2tRq7Xzr9xn/mT3+b0z/z8kGGeQvvs3J+3DDLYv+3x+sin/VjY/RKpxa5bBguSvT5tuoMNKtjNt22vWt1kW6ZUDwFEAFMKmASVi0cAXzpamvSFa99oDwEIQMCNgEnZ5K/dtpHOrU1kTY5LY6lUU1qXQlJru1FYtSAnKVsoFD6yLizDo5+RFk+Rht6SeAt2M3HWd6k9AUiiLwggAphEmORbpXgEMPc8HNde0h4CEIAABCBQUgn0vUra++oi7T0CiAC6BhQC6EqQ9hCAAAQgAIGCCBTx3FcEEAG0kPuvpbiUZLkVxkq6SFKyyeiKRwCjr2Mq6KLg9xAoDAFLMbHfzdI7ZxamNW0gAAEIxEsAASxy3mWKfIsla4OWcdNefGkSaC+hPUvSGZLsbdwzkjiU4hFA27GtYrPJu/Zezg8v9iddH/aQ9MLh/uRye4G5rZBdON7PGG8LOey1TTZh3RZS9L1SemZ/ad5o6aC7pUrV/UnWFav7k4GjE3ltf7Ztm5xsqyZt1eLGtf6+W/bxV/OOfcefqNzrPH9Sdu5i/VWZLUmdG3SW/jt863q5V2faJOqRz/gTqMNiE59tEnC40tgmZc/93Z8wbZOnu5/gr8C1lbf2aiJbNGMT3W0Cs/XDW7lrix82+v3udKj/O5uYbCtdbbKzrYi2Cf42Od1KuFrVW7GbJZUr70+mtwnqtkLXPrOFHmEmfJt8bZxtAr9Ndu94sNT+AH9bNhl98lD/PZ624nTOKH+itu3TJrDbIoeqtaUmPf3zZny/HCTZ4g6bGG7bs/7aS9vXLJVqNPInx9u/+1wk9b5Aeu9cqfd5UkZTaclkqVYrf4WznV+bHG//bavBH95VOvxhf7+zR0oXjfYXDoRsrb/zxkhDjpc6HORPQF86VbIFABYvtnDAJuIbK+vLqoXSgCF+jNg5q9Vc2uFYv7/f3ilN+95PRGsT4//+WLJJ9vbieYsnW5k+8ll/kvnJb0sP9vAZ2EIIW1hgixhsPpZNXrfjsFg07kNv8xkYe5uPdvC9/vHZubHFELY9q299a7qT9NKRPgPrk02sb76rvy1bvW1s7VhGveDHg8W0LciZ9oO/at4WE9jiBFuoYNuxBQC7ne2vTv/7E3+BiC1AqNFYWrNM+ulhf5/f3+svhLCccnZd2vHbwg5b7GFzp2b9vPW1cOJb0rLp0keX+L875f2gT29IiydK7Q7YkoQ3ry+jjGb++azZVLIccmFpvpu/IMKO0673Xc+SZo7wF2EYl9dP9mteMdVfIBCuxO9+ktShv7+IIM99Ns25UjVab59B/uKQ4Q/5izGsNOgiLbB760ixFFB23lxKuDjDjrVVH3+RRaJy1jBpzu/SBxcktzf7LrQsBUVdLJuDXVtFVewtJvktNCuq/aTDdi6dINVoWKQ9YQSQEcARkkZJOicSWeMkvSspmQkHxSeAeYV69A+36+VgaVaG3en/gdwtiiDBhk3UTCZNPk3O8iup9nHil9LLR23ZYhHf6blion0xEUg1ToqpG3luNrzBKKr9TvzCv2nY+d/+ik4rxsCkt35H/yYtv2Ki/lgfX0otJYcl5U0lNU5028vn+iuaEyWmthWmdmMTLUV9TXqrTzf5N1l2o2LpofIqJpRFlafSbsxMzu2G8rNrtuwxvOnMj3/uudl2w2Y3GA1tvCCPYjdKJmktdsuZNiqv+nZe7u2Y87fXzPFX488fI61fLTXbeUvKJGP3/vnS3tdJD+24pd1lk7bkV7XUWbue7cdZ3bbSi//aUs9uju1tKLb63b6H7f9NUu3829+F44f4q7ejxVaM281NWGxQwG7A7SY2fH+x3VxZuh1LJRaeO1vN/MmV0qkfSHXa+De/Q2/1BxTsJmX6D37GAYvvlfP9myGL8Xb7JU7n43hdIoClWwArWvY4ScdIeicSS5b4yt7G3TeJ+IpfAJPoVImrYn8MwhyCF/zufwlRIACBbUPARnLtD3NYTCaqR/IYbpteFe1eLX3NSynedEYF8Ozv/VQ3xVGi+zGxunxScnux71HL1WrpclrvKVluTROpaJ7Q6GvwbKvJiH20P0c/66e5MfG8PXirTZhOLLlepk0tBLB0C6AlvrOMm30kRZN62W2hpdwPMkHGgaIAACAASURBVCjniFd7XUL0lQmWZXRWZmamMjKCR4lpE950BAIQgEAhCNionD2eD0syklCI3WzTJvb4+f9a+F2waQhnDi24O6kmUS54i4lrWOL8R3v7v7OcjzYdpShLqsdhj9a/usnvQQmVvUT4EEAE0ATQrrToZDXLlGkTZHKNw3shNFjSoNzBhAAW5bcT24IABLYpAZt3eVPkbTb/RAE0wE/t58/NvHxKcsmG79zOT4Zuc+8GRhKxF8fJskeilWtJ5e1BVRGX+7v6c0/DN3sks3l7s4/N0S2mpMzJdKGo6yCApVsAC/MImBHAor4K2R4EIJB+BMJRoiunS1Uir3hMv57G1yN7fGrz42xeGqXEE0AAS7cAWgDbIhBLA2+rgMPyl6T30nYRSIm/7DgACEAAAhAoCQRmLlmt+jUqqXKFAhb+lYSDydVHBBABDNPAnB08BrakaP+R1EXS9CRimkUgSUDavHmzNm7arArlyiZRmyoQgMC2ImDX6n1fTFDLutV01I7BJP9t1Rn2u00JjJqxVEc+8qPaNaiuLy5JZk3kNu1uyjtHABFACxob/bMkdJYIeoykiyVFEmrlG1exCWDmmg3KXL1BLepWTTrQPx4916t70A52aNuuXPL677K+DLtibzWoUXnbdcTSK27arLJlS3v6y/hOgQlFmTJlPO6LVq5Tg4xte/5djnzIzzO8rC0n7BosHnDYmF3Pf89boZ1b1fb4pEsJ/+hbf6b938Hp0q0i78fYOZn6dsJCnbF7G1Usn9yN6ZjZmd73b0blCnn25/WRM/XyiBl68pQdC/1dt2LtBi1euV6t6lUr8uNOZYOD3huj54f74yCpxML6jZuSZppKf4q6LgKIALrGVGwC2Oqqj7y+fn/l3mpWu2AJXLluo7Yf9JnXZuyNB6haJX8l2YasTVqzISvhl9jq9Rt12rO/aL/ODXXGHrlyPwWkFixfqxFTl+jA7Rt5I3rLVq/XrR+N09E7NlO35rX05bj52qNtfdWsuuVLMuz7pfu11/n7tNPvM5fpundH65TdWunlEdN1Vt/t1K9jgxyPGV77ZYYWrlin8/q18/Y8e9kaTVu0Sn3a1tPaDVmy47ORigG7tND2TWt6deyPV/VK5dW2fvWEkvfpmLm6/I0/9eAJPbR3hwZatW6jTn56hPbt3FD/3attnrGQtWmzyuWSRuvDVW/9qX6dGuqwbragPPkSSlG0xbqNWdqQtdnrf7TYvsfNXa5OjTNy9MG2ccWbf6phRmVddkCiBevJ96e4av44eZHOe+U33fKv7fXlX/P19m+z9fjJO+qALo00Y/FqL4d3MrFcUP8sTsbPW67d29bLU6Zyi/+zP0zV6FmZuuuYblud20T7i15PfwzaX2+MnOnF3W5t6mZXX7JqvV4ZMV1H9mymJrWqeJ+/9/ts7xh3bBnk/Qtq9/m/r72YfuD47jq8e9OCDrHQv/956hLZH+Td29VLaht2ns54YaRXN5U/+svXblD1iuXT5ubqpymLNXnhSp24a8scxz1y2hJ9OW6BHvt2svf5Vf076uy+Bc/pM7Gz682uzzE3BgnfExANv+uO6tlM9xzbLSnmYaU/Zi7ThPkrdNOHf2nF2o364uI91a6hJZqwdJH+jVTu8tec5bLvjh4taueos2Z9ln6auli92tTN8b26eOU6nfjUCJ2z13ZbxZ1918zNXJN9Td7w3hi9kIcA2vf+6vVZmrFktfe9e/ae23nn/qM/5+rcV0bp3mO7eddBtDz13RTVqFxex+2c8wbKztP7v8/Rv/dovdXfpVlLV6tOtYqqWrGIV0JLQgARwJQu0ASVi00A7YK3El704ReL/cE4eIfGWrhynWpXrejJ2Ou/zNS5e7dVveoVvYvlhvfHatfWdXThq7972/j52n1UqVw5/Tpjia54c7Q3EtOlSYY+PH/3HF8qTw6bols/tjzY0peX9PUu1ioVy2nygpWatXSNdmhaU0c/Ntxrf8WBHTzpu/PTv/Xmr7O8Nvb70bMz1bZBda99WKIC2KddPe+xQqJibexLyO7I9777G6/KgV0aaebS1Ro7Z7n3786NM/TXXP+/w2J/qBasWKtdbv3K+6hiubK6+qCO2qtDA33x1zy1b1hD9apX0iH/+z67jXGcvHCVHvxqovfZoyf21J7t63vH1rRWFf0xK1Mjpi72fvfw15P0+tm9vD+kExf4X1aVypfVV+MXeL+fdGt/lY883n7m+6n64q/5enrgTt4X18NDJ3nCYH+EX/rJf8HMi//eReXKlNHOret4It3jps+1dPUG/Tl4f63bsMmbd2Nf7Mb36e+namDvVrr+kM6at3ytalWp4H3x9n/Af2OhHb/9AY6OTOT+g2HbaF67ivbv0ighe/sDt3rdRg3ssyUHox3vbR+P82Jgr/b1NcUEfLt63ijIxqxN2cf8wvBpmjh/pW46vIsXTx/8MUfnD/kt4X4s7g7p2kR3fDre+/3k2w7KIWBfjZuv+7+c6P3xtPNmf2ge/GqSjuzZVB/8OUc7tazj3QBUr1zeEz4bKdnnnm+0an2W/jeghw6NyLjVe/zbKerZspYue+MP9evYULcf6eduC2PyqVN28m4AwmJiuuddQ73Yb12vmv69e2vvD6XJXc+bv/Cq3fyv7XX9u/awQLr/uO5eLNz84V+ak7nW+6xFnareaPefs5bpsIfsBUPS6X1aq271it51Gt2/nedz99pOx+zU3LtJm798rY569Efvj+eo6Uu9PM8PDeipqYtX6V8P/+DF6POn7ZzjurU/6g8Pnazjdm6uCuXKeH+Y7Y+y3eTscaef3uS36/dTRpUK9q4e2TeLXad2A3XtwZ08zlaWrlqvHsEx2r9P3q2lNm3erFuP2DrfnZ0Xizf7o2/icvjD/nGOv/nAHMJhovX1uAV6/vRdvDgKiwn7v58bqUv2a5/9qNni7d4vJnjHYHFibGw07ZqDOnnXb+5iMf7aLzPVuUmGxs9bodnBd5TJ31Pf+2/ceP2sXmpVt2r2yHN43sNt2Xl+99w++nTMPLWpV039Ezwtsf20vvrj7N3/ddMB+nzsfO3Vob5qVa2Y41oIt99/+0Z69KRIYubg6cNvM5epfvVKalKrsnf92Ped3Vs+9u2U7Gsi3JFd7xZ/v81YqoHP/qJrDuqYLU9282rz8ra7xu+XxfXdn/2th0/s6d2UnPnCSH3+13wdu1Mz3Xn0FhHtduPnstFnK6HgT1qwQmNmL/euW/tOe/KUnbxBgKgAWvzecOiWhNe5OT44oId3Ixz9fMIt/bNHAm0uYRiLtu/2Davr0wv39OKnzdUfadNmKZRmu24fGTrJGwG95PU/vL9rI6/bb6vz7/oBAogAusZQsQigjVa0CS5s6+DlB3TQXZ/97drXrdoPu3xv1atRUd1v/ELrszYV+fZL4wbty/M/wQjKKb1aZt9Bx8nCBNZGlxrUqKR9OjWUPboMy2tn7qZdI6NW9rn9Me9+ky83312xt/elXbNKBR37+HD9OSv/13XZaJj9UbEy5D+7eSOz4fHHecy2L/sDbpJ9df9O3k2CiVRBZY929Ty5MxGxEUobwSjOYjdNlSuUzb4RiO6rb/v6MnlZtzH/a9HmZN14WBdPILo2q6kLX/1Nn42dn1S3a1Qq74mgxUdY7ObiuR+n5dn+y0v21BPDpnjndtnqDfpxsn9jlKjUrlpBdhw2h9C2GxVKq28jUsOn5Gzfs0Ut7d6uvncDEopb7m3bTZYdo40uPXbSjmpZt6ru+fxvbzQvmWI3eF2b15KNvOZXzurbRmftuZ13I/3i8Gn6ePQ8T5hy33Qms8+wjjG/5Yjts2/Iw88P6NIw3/N2df+O3sjxf18epQUr1nnN7CZ533u/zXf3dqznvGwvuPLLm2f30lPfTdWnY+flaHf8zs3Vs0VtXfHWn1ttz24Ydrr1S09Qw/LNZXt5gv75X/O0dsPWMXrG7q23On/21Mduej4ZM887dwUVE39j/93ERTmqpjIaXdA+wt8jgAhgsrGSV71iEcDnf5ymQe/nenema08TtL/r6K66/M2tL/5i2BWbTCMC0S/T3e/42hvdpUAAAhBIVwIIYPGcmfSZfVw8x1fcWy0WAcw9vF5cB2GjH7nvtIprX2w3fQhMvLV/9orsuGItfY6enkAAAiWNgD2m7968aPNRMgLICKDrdVCiBdD14GlfMglEFwUhgCXzHNJrCJQ2AkU9CogAIoCu1xAC6EqQ9rETGHX9ft48GysIYOz42SEEIFAIAghgIaAV0IRHwG5Mi0UA//fVRN3zxQS3ntEaAnkQOHPPNjpjj9ZeSovON/ipgigQgAAE0pkAAlj0ZwcBdGNaLAIYdsnSMvw+a5m3pH+fjg11SLfGXl41K/YYr0uQ5+/Hq/p56TAGPvuzt+LqsO5NvDQFNspz9kv2pjupWsVyOqV3K2/uV5j6JPeh79+5oZduY99ODb20GrYi0eYJli1Txvux9Awr1m308n3Z2jBLXxCmqbG0INe8M9pbrfbN35ZgtbX+s2cbWT6qIb/M0ICdW2jZmg1eegdLN/DGyFnear6XRkz30lA0zKiUnTJj+6YZXroPa2/b7XuXnxImLCft1sJbRXnn0V319qhZ+mnKEh3ctbEGHdJZzw+fpiN6NPXSxlj6mnJly8pW49auVjFHnixL+3D/lxO8latv/DpTUxetlqXTsNQJVizv3gX92nppISwNhKVpsFQpturyvd/neHXsWCx1x5xla7yFFMbYuCVTqlQop/Jly3h56CyFi+UYs2KpTR46oYeuf2+sx8lS/tx1TNetRM3S4ezbqYHWZ23Whfu089J62Kpdl2KrhsPVhnltx1af2gIlW4U5ffHqAnf3wXm7e6uKh01YmJ1iyBqF59BWuFvql1EzlmVvyxItz8tcqykLV6p5napavmaDbj+yq5cSxVJ9hHnqLE4tbY/llbSVsZaiJ1E5skdTL6XLMz9M9VK07N2xgZdqJiwW82+Pmp3nsfyT58raql1LPxQt3ZrV9NIgUSCQLgQsK4FlHCjKwiNgHgG7xlOxCqBr56y95cerU7Vijjx1eT32K+o7rKLof+5t5JUQtaj2ZakuLBec5RbLqxT0NhFLqG25CMPcgJbb7dFvJnvSYwmCLXGxpcnIr5j4Tlq4Uh0a1vAk294C89X4+Z7oViqf+L2cxsZywIVJv3NvP7/HvS+cvouXY86k2OTo1TN3y05ybP21nGy5y1u/zvLy5eWVWzDR8Vn+N0tea5KeO7FtcZ/baH8mLVjpJY82wQ77Yfu3ZNyWFqZRza3fWGJJaS2v4Pn92nqpVCz/n+V7NDYdG2V4aVIsZ5kV26Ztz34/bfEqHRvk+Yu+DtFujk5/7pfstCjR68+E2RKAD+zTStMWrfYSuLdrWN079/amCBNWE+Xo9ix/mqXt6dGiVvbn9lnu97ha2p8alStk51+0flra0egbcnLHSvR1YFbfbgQtD6ClCbE3mthbNSxnXfhWDctTZ8VyeN7y4TjvJqZxzSoa/P5YL+XMEyfv6CV1t76FuT+tr5Zw3RLV2zVmOfas/Dp9ia58a7T27lDfu5GzfHPWX8sNaOmrLM1K7rf7hP23FDPPDtzFS0x//BPDvZtFK40yKns5Na3YPu2G2lLEWI7Lt8/p7eXFs0Tmdt4slY2d8+3qV9dFr/m5VXdqWVtPnbqTxyDMz2znPNyvbf/Gw7t4N4l2zixGjJslPd733mFe358ZuJOa167qsftj1jJdun8HWU5Ny7UZ5lUMY/bna/bxjtXa2Y2j5dFcuS5Ltx2xvfeaTbtBt5yIdhMeludO29nbtuWH/GXa0uzcldcd3En3fD7B4xwWu5lsU7+6l9v1ga8meumQ7CbY8r1WKldWJzw1wqt69zHdvJsoe4ONpQSymLdk9NsP/szLk9qxUQ3dduQOevmnGXprlJ8fNix2k9+1WS1dun9773vQvhPtx74rC0pDZsm3cyfJz+/7M5nfIYAIYDJxkl+dtBfARJ1PJAKDD+2cIwmwKxjapx+B/ATwrXN6aceWddKv0//wHplcD/5grE7ctYV6b5fc2zriQGICZ28RMUkzUahasVyRvcs7mkS8uI7FBNoSVJ/Xr22OGw1Lfm3JrU22rn1ntJdo+o8b9s/x5qL8+mQint87zfe6a6imLV7tvf3mpN1yvoUk1WO1Jwv2tMbe2lHQDWNB2zahtqTullcwTHZtQmpp/nK/5ci2lftmzOTcJDPZ1+ZF+2PnwZKgJ3rrT5SnJb4Pb24Lusku6HiT+T0CiAAmEyelQgBHXrdvwmz7roBonz4E8hPA4kizkD5HTk8gEA8BG6m36Ri9t6ubNq/Fi+fIS95eEEAE0DVqS+QIoL1vcv/7hnnH/ut1+3rz+RK9askVDu3Ti0B+Amhz9XZo5r9TmQIBCEDgn04AAUQAXWO8RAqg60HTvmQSyE8AP7pgd3VpggCWzDNLryEAgVQJIIAIYKoxk7s+AuhKkPaxEchPAD+9aA9vIQMFAhCAQGkggAAigK5xjgC6EqR9bATGzM7UIf/7Xjs0rak3zu6ljtd/mr3vLy/ZU20b1IitL+wIAhCAwLYkgAAigK7xhwC6EqR9rAQs5Ua46i86IvjZRXuqQyMEMNaTwc4gAIFtRgABRABdgw8BdCVI+21G4MD7h2n8vBXe/nkEvM1OAzuGAAS2AQEEEAF0DTsE0JUg7bcZgU9Gz9U5L4/y9j/19oO2Ssy8zTrGjiEAAQgUMwEEEAF0DTEE0JUg7bcZAUv2+tao2bJX77EAZJudBnYMAQhsAwIIIALoGnYIoCtB2kMAAhCAAARiJoAAIoCuIYcAuhKkPQQgAAEIQCBmAgggAugacgigK0HaQwACEIAABGImgAAigK4hhwC6EqQ9BCAAAQhAIGYCCCAC6BpyCKArQdpDAAIQgAAEYiaAACKAriGHALoSpD0EIAABCEAgZgIIIALoGnIIoCtB2kMAAhCAAARiJoAAIoCuIYcAuhKkPQQgAAEIQCBmAgggAugacgigK0HaQwACEIAABGImgAAigK4hhwC6EqQ9BCAAAQhAIGYCCCAC6BpyCKArQdpDAAIQgAAEYiaAACKAriGHALoSpD0EIAABCEAgZgIIIALoGnIIoCtB2kMAAhCAAARiJoAAllwBnCapZa54uUPSVZHPWkh6WFI/SWskvSLpMknrI3X6SrpXUhdJcyTdKemxFOIQAUwBFlUhAAEIQAAC6UAAASzZAvi0pCcjgbRSkv1YKSfpd0kLJV0qqa6k5yW9Len8oE5rSWOCbTwuqY+kRyQNkPRWkgGKACYJimoQgAAEIACBdCGAAJZsAbxfkv0kKv0lfSipeTCyZ3WOl/ScpAaSlkuyEcPDJHWKbMBG/7pJ6pVkkCKASYKiGgQgAAEIQCBdCCCAJVsAK0mqKGmmpDck3RV5vHuTpMMDmQvjrbakJcEj4aGShkn6TdKFkYA8QtLrkqpK2pBEoCKASUCiCgQgAAEIQCCdCCCAJVcAL5Y0StJSSbtIul3Se5LOCALsCUmtJO2fK+DWSRooaYikCcGI4G2ROr0l/SCpiaS5CYLVpNN+wlJD0qzMzExlZJgLUiAAAQhAAAIQSHcCCGB6CeBgSYMKCJqdJY1MUOcoSW9KqidpsSQTQFskckCuurYA5BRJrwYC+Gwgj2E1mwf4vaTGkuYl2E/CPiKA6X6p0z8IQAACEIDAFgIIYHoJoMmb/eRXbPXv2gQVmtpInKTdJI2QVFyPgBkB5BsEAhCAAAQgUMIJIIDpJYAu4XSIpA+CUb8ZksJFIM0ij3KPC1YCRxeBHCqpc2THj0rqziIQl1NBWwhAAAIQgEB6E0AAS6YA2gpdG+mzhRyZkuyx8H3Bo2Fb+GElTAMzX9LlkuoE8/3eTZAGxlLAWDoZ266tAiYNTHpft/QOAhCAAAQg4EQAASyZAtgzyNfXMViQMT2Y02dJnFdHIsISQVtev9yJoG0hSFgsEbTJY5gI2lLDkAja6bKiMQQgAAEIQCC9CSCAJVMA0ymqSAOTTmeDvkAAAhCAAASSIIAAIoBJhEm+VRBAV4K0hwAEIAABCMRMAAFEAF1DDgF0JUh7CEAAAhCAQMwEEEAE0DXkEEBXgrSHAAQgAAEIxEwAAUQAXUMOAXQlSHsIQAACEIBAzAQQQATQNeQQQFeCtIcABCAAAQjETAABRABdQw4BdCVIewhAAAIQgEDMBBBABNA15BBAV4K0hwAEIAABCMRMAAFEAF1DDgF0JUh7CEAAAhCAQMwEEEAE0DXkEEBXgrSHAAQgAAEIxEwAAUQAXUMOAXQlSHsIQAACEIBAzAQQQATQNeQQQFeCtIcABCAAAQjETAABRABdQw4BdCVIewhAAAIQgEDMBBBABNA15BBAV4K0hwAEIAABCMRMAAFEAF1DDgF0JUh7CEAAAhCAQMwEEEAE0DXkEEBXgrSHAAQgAAEIxEwAAUQAXUMOAXQlSHsIQAACEIBAzAQQQATQNeQQQFeCtIcABCAAAQjETAABRABdQw4BdCVIewhAAAIQgEDMBBBABNA15BBAV4K0hwAEIAABCMRMAAFEAF1DDgF0JUh7CEAAAhCAQMwEEEAE0DXkEEBXgrSHAAQgAAEIxEwAAUQAXUMOAXQlSHsIQAACEIBAzAQQQATQNeQQQFeCtIcABCAAAQjETAABRABdQw4BdCVIewhAAAIQgEDMBBBABNA15BBAV4K0hwAEIAABCMRMAAFEAF1DDgF0JUh7CEAAAhCAQMwEEEAE0DXkEEBXgrSHAAQgAAEIxEwAAUQAXUMOAXQlSHsIQAACEIBAzAQQQATQNeQQQFeCtIcABCAAAQjETAABRABdQw4BdCVIewhAAAIQgEDMBBBABNA15BBAV4K0hwAEIAABCMRMAAFEAF1DDgF0JUh7CEAAAhCAQMwEEMD0FMBrJR0sqbuk9ZJqJYiLFpIeltRP0hpJr0i6LKgfVu8r6V5JXSTNkXSnpMdybeu/ki6X1FjSWEkXSfouhThEAFOARVUIQAACEIBAOhBAANNTAG+UtExSM0n/TiCA5ST9LmmhpEsl1ZX0vKS3JZ0fBFZrSWMkPSnpcUl9JD0iaYCkt4I6x0l6UZJJ4A+SzpJ0hqTOkmYkGaAIYJKgqAYBCEAAAhBIFwIIYHoKYBgfAyXdn0AA+0v6UFLzYGTP6h8v6TlJDSQtl3SHpMMkdYoEm43+dZPUK/hshKRRks6J1Bkn6V1JVycZpAhgkqCoBgEIQAACEEgXAghgyRTAmyQdHshcGEu1JS0JHgkPlTRM0m+SLowE2xGSXpdUVf5xr5Z0jKR3InUeCB492+PjZAoCmAwl6kAAAhCAAATSiAACWDIF8AlJrSTtnyuW1kmyUcMhkiYEI4K3Rer0Dh71NgkEcHbwaPjHSJ1rJJ0qqUMecVpJkv2EpYakWZmZmcrIMBekQAACEIAABCCQ7gQQwPgEcLCkQQUExM6SRkbq5PUI2ASwpaQDcm3PFoycIunVQACflXR7pI7NA/w+WPBRVpIJoEnh8EgdW4BysqSOefQ14XEggOl+qdM/CEAAAhCAwBYCCGB8AlhPkv3kV6ZJWpuEAG7LR8CMAPINAgEIQAACECjhBBDA+ASwMKFS0CIQWyU8N9iwrei1lcDRRSCHBit6w30/Gszviy4C+TVYBRzW+UvSeywCKczpog0EIAABCECgZBBAANNTAC3HX51gFa/l6NsjCKdJklZKCtPAzA9y+FldWwFsq3dzp4GxFDCWCsakz1YBJ0oDc3bwGPhMSf8J8gZOTzKEWQSSJCiqQQACEIAABNKFAAKYngJoMmcLMXKXvSV9E3xokmh5/XIngraFIGGxlbz3RRJBW2qYRImgrwjmBVrewIuDFcTJxigCmCwp6kEAAhCAAATShAACmJ4CmCbhkVQ3EMCkMFEJAhCAAAQgkD4EEEAE0DUaEUBXgrSHAAQgAAEIxEwAAUQAXUMOAXQlSHsIQAACEIBAzAQQQATQNeQQQFeCtIcABCAAAQjETAABRABdQw4BdCVIewhAAAIQgEDMBBBABNA15BBAV4K0hwAEIAABCMRMAAFEAF1DDgF0JUh7CEAAAhCAQMwEEEAE0DXkEEBXgrSHAAQgAAEIxEwAAUQAXUMOAXQlSHsIQAACEIBAzAQQQATQNeQQQFeCtIcABCAAAQjETAABRABdQw4BdCVIewhAAAIQgEDMBBBABNA15BBAV4K0hwAEIAABCMRMAAFEAF1DDgF0JUh7CEAAAhCAQMwEEEAE0DXkEEBXgrSHAAQgAAEIxEwAAUQAXUMOAXQlSHsIQAACEIBAzAQQQATQNeQQQFeCtIcABCAAAQjETAABRABdQw4BdCVIewhAAAIQgEDMBBBABNA15BBAV4K0hwAEIAABCMRMAAFEAF1DDgF0JUh7CEAAAhCAQMwEEEAE0DXkEEBXgrSHAAQgAAEIxEwAAUQAXUMOAXQlSHsIQAACEIBAzAQQQATQNeQQQFeCtIcABCAAAQjETAABRABdQw4BdCVIewhAAAIQgEDMBBBABNA15BBAV4K0hwAEIAABCMRMAAFEAF1DDgF0JUh7CEAAAhCAQMwEEEAE0DXkEEBXgrSHAAQgAAEIxEwAAUQAXUMOAXQlSHsIQAACEIBAzAQQQATQNeQQQFeCtIcABCAAAQjETAABRABdQw4BdCVIewhAAAIQgEDMBBBABNA15BBAV4K0hwAEIAABCMRMAAFEAF1DDgF0JUh7CEAAAhCAQMwEEEAE0DXkEEBXgrSHAAQgAAEIxEwAAUQAXUMOAXQlSHsIQAACEIBAzAQQwPQUwGslHSypu6T1kmoliIvNCT47R9Jjkc93kPSQpF0kLZH0uKSbJUXbHhV8tp2kyZJs3++kEIcIYAqwqAoBCEAAAhBIBwIIYHoK4I2SlklqJunf+QjgaZI+jQRSpqQ1wb9NzCZIQto4JwAAIABJREFUGirpVkntJT0nybZ9T1Cnl6TvJF0fSN8Rkm6StLukEUkGKAKYJCiqQQACEIAABNKFAAKYngIYxsdASffnI4AmbO/mEUw2Gni7pIaS1gV1rpJ0fiCWNgr4miQTuP6RbZhQLpU0IMkgRQCTBEU1CEAAAhCAQLoQQABLtgDOllRZ0lRJT0t6QtKmILhekFRT0uGRYOshaZSkNkGbGZLuC37CahdLukhSyySDFAFMEhTVIAABCEAAAulCAAEsuQJ4naSvgke++wSPbm3E75YguD6XNE3SmZFgayLJpLG3pOHB/EIbZXwlUucESc9KqpRHkNrn0d/VkDQrMzNTGRnmghQIQAACEIAABNKdAAIYnwAOljSogIDYWdLISJ38HgHn3tSlkm4IRv3sdyaANjJ4VqRiU5M1STb376dAAE+VNCRS58RgNNFGFhOVhMeBAKb7pU7/IAABCEAAAlsIIIDxCWA9SfaTX7ERu7WFFMA+kr6X1EjSfEnF9QiYEUC+QSAAAQhAAAIlnAACGJ8AFiZUUhkBPE/SXcGCEVv0YYtAbgsWgVgqGStXSrog1yIQe4R7UKRznwQrkFkEUpgzRhsIQAACEIBACSCAAKanALaQVEfSYZIul7RHEEuTJK2UdGgw0mfz+Czty95BahdL83JhUNcWgPwt6etABNsFaWAszUuYBsbmAg4Lcv+9FywYsTmEpIEpARcvXYQABCAAAQgUlgACmJ4CaCJnc/NyFxO9byQdGKR4aSuprKQpkp6S9LCkjZFGlgjaPrNE0JbaxZJEmwBGE0EfHSwcsZXBYSLot1MIKFYBpwCLqhCAAAQgAIF0IIAApqcApkNsJNsHBDBZUtSDAAQgAAEIpAkBBBABdA1FBNCVIO0hAAEIQAACMRNAABFA15BDAF0J0h4CEIAABCAQMwEEEAF0DTkE0JUg7SEAAQhAAAIxE0AAEUDXkEMAXQnSHgIQgAAEIBAzAQQQAXQNOQTQlSDtIQABCEAAAjETQAARQNeQQwBdCdIeAhCAAAQgEDMBBBABdA05BNCVIO0hAAEIQAACMRNAABFA15BDAF0J0h4CEIAABCAQMwEEEAF0DTkE0JUg7SEAAQhAAAIxE0AAEUDXkEMAXQnSHgIQgAAEIBAzAQQQAXQNOQTQlSDtIQABCEAAAjETQAARQNeQQwBdCdIeAhCAAAQgEDMBBBABdA05BNCVIO0hAAEIQAACMRNAABFA15BDAF0J0h4CEIAABCAQMwEEEAF0DTkE0JUg7SEAAQhAAAIxE0AAEUDXkEMAXQnSHgIQgAAEIBAzAQQQAXQNOQTQlSDtIQABCEAAAjETQAARQNeQQwBdCdIeAhCAAAQgEDMBBBABdA05BNCVIO0hAAEIQAACMRNAABFA15BDAF0J0h4CEIAABCAQMwEEEAF0DTkE0JUg7SEAAQhAAAIxE0AAEUDXkEMAXQnSHgIQgAAEIBAzAQQQAXQNOQTQlSDtIQABCEAAAjETQAARQNeQQwBdCdIeAhCAAAQgEDMBBBABdA05BNCVIO0hAAEIQAACMRNAABFA15BDAF0J0h4CEIAABCAQMwEEEAF0DTkE0JUg7SEAAQhAAAIxE0AAEUDXkEMAXQnSHgIQgAAEIBAzAQQQAXQNOQTQlSDtIQABCEAAAjETQAARQNeQQwBdCdIeAhCAAAQgEDMBBBABdA05BNCVIO0hAAEIQAACMRNAABFA15BDAF0J0h4CEIAABCAQMwEEMP0EsJWk6yX1k9RI0hxJL0m6VdL6SHzsIOkhSbtIWiLpcUk3S9ocqXNU8Nl2kiZLulbSO5Hfl5E0SNKZkmpLGiHpXEljU4hDBDAFWFSFAAQgAAEIpAMBBDD9BPBAScdJGiJpkqTtJT0p6UVJlwVBY9I1QdLQQAzbS3pO0o2S7gnq9JL0XSCTJn1HSLpJ0u6B6Fm1KwMpHBhs7zpJe0rqIGlFkgGKACYJimoQgAAEIACBdCGAAKafACaKjcslnSOpTfBL++/bJTWUtC747CpJ50tqFowCvibJ5Kx/ZIOfSloqaYD847bRxfsl3RHUqSRpfiCGNqKYTEEAk6FEHQhAAAIQgEAaEUAAS4YA3iLJRgZ3CmLnBUk1JR0eiaUekkYFkjhV0gxJ9wU/YbWLJV0kqWVQzx4L95T0W2Q770laJunUJOMUAUwSFNUgAAEIQAAC6UIAAUx/AbT5eyZ2l0p6KgiczyVNC+buhbHURNJsSb0lDQ/mC9qj3VciwXaCpGcl2Uif1ftBUtNgJDCs9kQgiAfkEaTW1n7CUkPSrMzMTGVkmAtSIAABCEAAAhBIdwIIYHwCODhYcJFfTOwsaWSkgkndt8HPGZHPTQBtlO+syGcmcrMk2dy/nwIBtFE8m0sYlhMlPS2pckQAbR9zI3VsvmHzYMQxUV8THgcCmO6XOv2DAAQgAAEIbCGAAMYngPUk2U9+xUb11gYVTMxskYetzLWRvE2RhtvyETAjgHyDQAACEIAABEo4AQQwPgFMJVRsNM/k71dJJ0nKytXYFoHcFiwCCVPD2IreC3ItArHHswdF2n4SzO+LLgKxeYJ3BnUqSlrAIpBUThV1IQABCEAAAiWPAAKYfgIYPva1RRyn5JK/eUGI2QKQvyV9HYhguyANjKV5CdPA2By/YUGaF1vYYQtGbDFJ7jQwV0s6TdJESddI2os0MCXvQqbHEIAABCAAgVQIIIDpJ4D2uNcWaiQqlrolLJYI+uEgEbSldnksyPMXTQR9dCB9lj4mTAT9dmQbYSJom0sYTQQ9JoUgYhVwCrCoCgEIQAACEEgHAghg+glgOsRFKn1AAFOhRV0IQAACEIBAGhBAABFA1zBEAF0J0h4CEIAABCAQMwEEEAF0DTkE0JUg7SEAAQhAAAIxE0AAEUDXkEMAXQnSHgIQgAAEIBAzAQQQAXQNOQTQlSDtIQABCEAAAjETQAARQNeQQwBdCdIeAhCAAAQgEDMBBBABdA05BNCVIO0hAAEIQAACMRNAABFA15BDAF0J0h4CEIAABCAQMwEEEAF0DTkE0JUg7SEAAQhAAAIxE0AAEUDXkEMAXQnSHgIQgAAEIBAzAQQQAXQNOQTQlSDtIQABCEAAAjETQAARQNeQQwBdCdIeAhCAAAQgEDMBBBABdA05BNCVIO0hAAEIQAACMRNAABFA15BDAF0J0h4CEIAABCAQMwEEEAF0DTkE0JUg7SEAAQhAAAIxE0AAEUDXkEMAXQnSHgIQgAAEIBAzAQQQAXQNOQTQlSDtIQABCEAAAjETQAARQNeQQwBdCdIeAhCAAAQgEDMBBBABdA05BNCVIO0hAAEIQAACMRNAABFA15BDAF0J0h4CEIAABCAQMwEEEAF0DTkE0JUg7SEAAQhAAAIxE0AAEUDXkEMAXQnSHgIQgAAEIBAzAQQQAXQNOQTQlSDtIQABCEAAAjETQAARQNeQQwBdCdIeAhCAAAQgEDMBBBABdA05BNCVIO0hAAEIQAACMRNAABFA15BDAF0J0h4CEIAABCAQMwEEEAF0DTkE0JUg7SEAAQhAAAIxE0AAEUDXkEMAXQnSHgIQgAAEIBAzAQQQAXQNOQTQlSDtIQABCEAAAjETQAARQNeQQwBdCdIeAhCAAAQgEDMBBBABdA05BNCVIO0hAAEIQAACMRNAABFA15BDAF0J0h4CEIAABCAQMwEEEAF0DTkE0JUg7SEAAQhAAAIxE0AA008AW0m6XlI/SY0kzZH0kqRbJa0P4sPqTE0QK/0lfRr5vK+keyV1CbZzp6THcrX7r6TLJTWWNFbSRZK+SyEOEcAUYFEVAhCAAAQgkA4EEMD0E8ADJR0naYikSZK2l/SkpBclXZZLAPcNpC2MpSURSWwtaUzQ9nFJfSQ9ImmApLeCBrYf265J4A+SzpJ0hqTOkmYkGaAIYJKgqAYBCEAAAhBIFwIIYPoJYKLYsBG6cyS1ySWAPST9nkcw3SHpMEmdIr+30b9uknoFn42QNCrYdlhtnKR3JV2dZJAigEmCohoEIAABCEAgXQgggCVDAG+RZCODO+USwJmSKkuaKOk+SW9GAmuYpN8kXRj57AhJr0uqKv+4V0s6RtI7kToPSOouyR4fJ1MQwGQoUQcCEIAABCCQRgQQwPQXwO2CUbpLJT0VxE49SScHj203BSN910o6NZgvaNUmSHpO0m2ReOsdtGkSCODs4NHwj5E61wTb6ZBHnFaSZD9hqSFpVmZmpjIyzAUpEIAABCAAAQikOwEEMD4BHCxpUAEBsbOkkZE6JmrfBj82Ny+/8r9g1K5rUMkE8FlJt0ca2TzA74MFH2UlmQCaFA6P1DGRNLnsmMfOEh4HApjulzr9gwAEIAABCGwhgADGJ4A2amc/+ZVpktYGFUz+hkqyeXoDJdlIX37lxGCEsEpQqbgeATMCyDcIBCAAAQhAoIQTQADjE8BUQqVpIH+/SjpJUlYSje+WdGRkoYgtAjk0WNEbNn80mN8XXQRi+7BVwGH5S9J7LAJJgjhVIAABCEAAAiWUAAKYfgIYPva1NCyn5JK/eUGc2Vy/DcEiDxsZNNGzuX5XBotBrFqYBsZSwFgaGZM+WwWcKA3M2cFj4DMl/SfIGzg9yZhmEUiSoKgGAQhAAAIQSBcCCGD6CaA97rW5e4mKrdy1YgJostcyEESb73d/ZAFI2NZW8trq4DARtI0KJkoEfUUwL9DyBl4syR4fJ1sQwGRJUQ8CEIAABCCQJgQQwPQTwDQJjaS7gQAmjYqKEIAABCAAgfQggAAigK6RiAC6EqQ9BCAAAQhAIGYCCCAC6BpyCKArQdpDAAIQgAAEYiaAACKAriGHALoSpD0EIAABCEAgZgIIIALoGnIIoCtB2kMAAhCAAARiJoAAIoCuIYcAuhKkPQQgAAEIQCBmAgggAugacgigK0HaQwACEIAABGImgAAigK4hhwC6EqQ9BCAAAQhAIGYCCCAC6BpyCKArQdpDAAIQgAAEYiaAACKAriGHALoSpD0EIAABCEAgZgIIIALoGnIIoCtB2kMAAhCAAARiJoAAIoCuIYcAuhKkPQQgAAEIQCBmAgggAugacgigK0HaQwACEIAABGImgAAigK4hhwC6EqQ9BCAAAQhAIGYCCCAC6BpyCKArQdpDAAIQgAAEYiaAACKAriGHALoSpD0EIAABCEAgZgIIIALoGnIIoCtB2kMAAhCAAARiJoAAIoCuIYcAuhKkPQQgAAEIQCBmAgggAugacgigK0HaQwACEIAABGImgAAigK4hhwC6EqQ9BCAAAQhAIGYCCCAC6BpyCKArQdpDAAIQgAAEYiaAACKAriGHALoSpD0EIAABCEAgZgIIIALoGnIIoCtB2kMAAhCAAARiJoAAIoCuIYcAuhKkPQQgAAEIQCBmAgggAugacgigK0HaQwACEIAABGImgAAigK4hhwC6EqQ9BCAAAQhAIGYCCCAC6BpyCKArQdpDAAIQgAAEYiaAACKAriGHALoSpD0EIAABCEAgZgIIIALoGnIIoCtB2kMAAhCAAARiJoAAIoCuIYcAuhKkPQQgAAEIQCBmAgggAugacgigK0HaQwACEIAABGImgAAigK4hhwC6EqQ9BCAAAQhAIGYCCCAC6BpyCKArQdpDAAIQgAAEYiaAAKanAL4vqbukBpKWSvpS0pWS5kTiYwdJD0naRdISSY9LulnS5kido4LPtpM0WdK1kt6J/L6MpEGSzpRUW9IISedKGptCHCKAKcCiKgQgAAEIQCAdCCCA6SmAF0saLmmupKaS7g6CpXfw/yZdEyQNlXSrpPaSnpN0o6R7gjq9JH0n6fpA+o6QdJOk3QPRs2omlSaFA4PtXSdpT0kdJK1IMkARwCRBUQ0CEIAABCCQLgQQwPQUwNzxcZikdyVVkrRB0jmSbpfUUNK6oPJVks6X1CwYBXxNkslZ/8jGPg1GFAfIP24bUbxf0h1BHdv+/EAMbUQxmYIAJkOJOhCAAAQgAIE0IoAApr8A1pH0aDASaKN3Vl6QVFPS4ZFY6iFplKQ2kqZKmiHpvuAnrGYjixdJahnUs8fCPSX9FtnOe5KWSTo1yThFAJMERTUIQAACEIBAuhBAANNXAG1U7jxJVSX9JOkQSYuDwPlc0rRg7l4YS00kzZZkj4nt8fH64NHuK5FgO0HSs8FIotX7IRDL6NzCJwJBPCCPILVRQvsJSw1JszIzM5WRYS5IgQAEIAABCEAg3QkggPEJ4OBgwUV+MbGzpJFBhXqSbPTPRutsoUZmIIG2yMME0Eb5zopszOYKzpJkc/9MGE0AbRRvSKTOiZKellQ5EEUTQBNHm2sYliclNZd0YB4dTXgcCGC6X+r0DwIQgAAEILCFAAIYnwCa0NlPfsVG9dYmqGDz+mZGRve25SNgRgD5BoEABCAAAQiUcAIIYHwC6BIqNiJnc/r2lvRNsAjktmARiI30WbEVvRfkWgRij2cPiuz4k2B+X3QRiM0TvDOoU1HSAhaBuJwq2kIAAhCAgAuBTatWafNmqVz1ai6bcW6btWyZph57nDIOOEANLr3EeXvptgEEMP0E0PL62c/3wYpdW9Rh6VsaS+oSrPq1BSB/S/pakolguyANjNUL08DYHL9hQZoXW9hhC0ZuSZAG5mpJp0maKOkaSXuRBibdLlP6AwEIQKB0ENiclaXxXbb3Drbjn3+oTEUbl9g2ZeH/HtKihx/2dt5p/Lht04li3CsCmH4CaAmeH5DUTZLd/tj8PEvfYvJmizzCYvUsMk0WLVn0Y4EoRhNBHx20M4kME0G/HdlGmAja5hJGE0GPSSHmWAWcAiyqQgACEIBA3gSyVqzQhJ3tz5rU9puhqtCo0TbDteCBB7T4UfvTigBus5NQzDs2CaIUnkCJFcDN9ozBEiKWIQQKf/ppCQEIlAYCmzdu1OpfflHlHboW66PZrJUrNWEnWw+JABZ3XDECmH4jgMV9zot6+yVSAE3+Zpx8ilaPHKkWzzytar3Dl6wUNR62BwEIQKDkE1j0+BNaeN99qrLTjmr10kvFdkA5BHDo16rQ2GY/bZuy8MEHtegRS8PLCOC2OQPFv1eGf9wYl0gB3Lh0qSb22iJ9HceMVpny5d1I0BoCEIBACSEw7YQTtWbUKLUf+YvKVa9eYK/HdeyUXac458Ot+PJLzTrPXmoltf36K1VoYpnKtk1BALcN9zj3igC60f5HCOC2vsOzRytLXnlFDa+6WhUaNnA7I7SGAAQKTWDthAmaepj/kqWO4/76x04RCYWubPXq6jDylwJ5xSWAme+9pzlX2ptNpbZffakKTS3FbdEVe5Q985z/qsHFF6ly5875bhgBLDru6bolBNDtzJRIAVw3ZYqmHHRwjiNv990wla9f341GIVpHV71V67unWjye7GuYC7EzmkAAAvkSiIpOo5tvUu1jjvlHEktV6FKtnyq0VT/+qIqtWnnTcuZcYVnNpJYvv6SqO+6Y6qaSPr8FjWRGBbDtt99m35zbFKLMt99W5e23V+UOHYq0f3FujDmAzAF0jbcSKYDRL7MQQPOnn1K1Xr1UpmzZhEw2LlqkcnXreiMCG+bMUdkaNVSuhqValDatX5/9CHnVDz+qcudOKl+3blJs18+cqcn77e/Vtbtdu+vNr9gdrMqWzbOfudsufu45r26dU07xfmXt102eogpNm3iTuqv36eOlWlj1009acO99ajx4kHecFRo2TKr/yVaynFplMzKS7ney26XeFgLrZ8zQ6l9HqeZhh6pMuXKgKQSB6HdDtd691OKZZwqxlfRvkqrQJVt/7V9/aflnn6vemf9R2WrJ5fFbNeJnzTjVf/18kzvvyBbAev89R/UvsPS2RVeSPQ7b48IH/6dFjzySvfNQGJd//rlmX3Ch93nHv8aW2O80BBABdL2yik0A18+arfm3367aAwao+u59turn5k2bUr7wPFGrUEHjOyUe+s846CA1vfce2R3epsxMla1a1ZOjld99p5n/OVMZBx+sBpdfpkl7WU5uqdaA473+TTt+gCq1a6s6J57ofXmZ6LQb9q02rV6t8nXsjX7S5vXrteqXX1S1Z0+VrVJFS1562ZvfUqlNa00+sP9WXzLRA143ZaqyFi9S5W7dNGmffVShYSO1fvONhOcuyiX6OKvtsG8188yztG78+BztMg45RI0GD8peeRf+svkTj6v6nntq6ZAh2rwxS3VOPinlWLHRTRORNWPGatrRR6t6376qtsceWjv6TzUaPFib1qzJ5uMx2rw5+5GbHcfyjz5W+bp1VLlLF829/gZvsY6Ja9nKlVV1Z3+lYNhu84YNKhvJGbbkxZc0/9ZbVfPww6Xy5dTw6muSWr1o58xSUSQS4Kzly7X8449VuVMnVelmmZpylqWvvqrln32mrMVLtH76dDV7+OGEsZsIpPV/3eTJqtShg8fAzt2CO+5U7RMsb7s8btHjs8+MnxWLJyvhHzc7n7WPPz57Nxvmz9eMUwd62wpvBAo6mfaHfPall3kJcGvsu2+O6pvWrtWmlStVvl5BLzcqaC+p/T6MJ+vbpnXrVLVHjxwbsPhZ8cUXqtKly1aPDteOG6d1kyar5qH2WvUtZe348Zp1/gWqf+GFqnnIwdkMwxp5jRJFY9XiZeOCBVr21tuqe/ppzlzsvNpNWuUunbOvB7tZW/TEk2p03bWq2LKl1vz5pyo0b67ytS2DV2rFvovGd90SvwWNhEVjy/47Uf0N8+Zpze+/a/ZFF3udqXX8cWo82N4cWnCxG8/FT9hr6KXGt9+uuVdbelopVQG067NcrnfSrxg6VPMGDfbEstpuu+U4v4mOw87lgrvulm3LvpvDRSDWnzYffeid2wV3361lb7zp9bHJXXeq5qGHFniQdn3bTbDFbcVm9nKvbV8QQATQNQqLRQBzL9Jo/vhjnjxYsT8CS197TQvvf0DV+vRW45tv0az//ldVevRQ/Ysu9L4wbSWZ3X2GKV6szQYbaTv4ECkrK99jti+gJc8/ny1Ktk3bV1hMApd/9FHS3MJHy/NuvU1LX3zRa2df4CYIVqrvs49WfvVV9vaiX0r2qHrRw49k76/xbbdp7jWWr3vLl7D3R++zz7X0lVeUtXKFNkybrhoH9dfqH4d7I5VFVVq9+aY2r1+nKt27e+K9btIkLX7ySdU59VRV6thRWYsXa+PChd4E7vqXXKLNGzdo7lVXq+a//qWspUu18ttvE3al1euvqUrXrpo7aLBWfjdMbd57zxtZnf9/d2jJc8/l2f1axx3nSXX9Cy/QvBtv0sqhQ1Xn36dr/bTpXu6wpS+/vFXbRBPeLVbsD4Sd03rnnadFDz3ktav7nzNUrnYdVevTR4se+p/qnnmmZgw8TfaWAisWk/YIyOZQla1UyRv1mH2hPyoQLa3feVtZmZme+Mtk+LffPFmwmw0r9sfEhKZMxUpa+c033uhuzSP+pcy3oik7pTqnnqKGwR/G9dOmeTcZE3v38eq3futNy2ekqf86wtumjSTbfhc/+ZRM8Jc884xsblUYN8bNrolQHHP32YTIRCosuf9QTtyzr3cMbSOrNG1k2bZrN02Jiom19THcp93gZb73rmqfcEJCifHmap15lif/JqHLP/1Mc664Qk3uvit79CV3nrhl777rxVz2cW7e7MWlyZ/dwFlp8ewzUtlyqtS+nbdf+05YP9nSpEoVW7fW+qn2mvUtJTx2G12dde65qvPvf3vfLd4I0ObNqrLjjlrz66852hjzhtdek31cdr5Wj/pNNQ8/bKuRWbspnX/bbVo9/CeVb9xYNfbfT/NvutnbXsNrrlHVnXb05qpFR65aPPesF4vGusOonPtOCD/Xh4uffU4L7rgjz/O7avhwzb7kUrUa8or3WNZK7pEzEyS7FjI/+FCVO3XM5pub3bI339SaP0er8vZdNO+GQWrxwv+3dx7gURR9GH8hhBJq6C0BpNsRBbGh2HtXBCuK+tkrNj4V7CIWUCwoqAgq9oK9l0+wiw0QldAJBAg9JMD3vJudzd7l7rKXvbtskneex+fBy87s7G9mZ975z/8/+wzq9+mDorw8zD9nCArmzIla5VgCcNULLyL/9deR3r49Mvr2QcGcv6zxtdXw4Wh6Oj97X7ygdC/2u//yM2bvsmvIc/M9+OfIo1CrTWtkP/EEZu20s/P3+vvti/VffOn8f9v77sPia64pVd/WI0ZY7bbhm2+w7N5RaD92jLW4z3/zLavNN0yfbvE0abu33kRaZibWffElGh1xuLWgtepbVJTSYEQJQAlAL+NFrGuSIgBXTZ1qDRbu1OaO27HkpuEx60sLEV8440Ts9+ESlp/bcWUIT3OvdmPHYNGl3rY9uFXLCS6ViX6KWY8+ilkcSAsLE3JrTrJmgmlxxRXImzjRssAmI4WLmSW33orVL7zo61btHrgfi66M71NRrUeOQIP++2OuvbDxUgGK8CXDh5ey4paVl5MNRThTg4MOxLqPihccmYMHo95uvSwxahZL9MWaP+TckCK7z/zFsvgZ8Ta7127O3xmpufrV1xzh3PGll0DfqczBg7Bh+gzkv/YaMvr1syZHCmF+3QFuK3yNGuj2zf8wZ89+Vpm1u3RGp1dfta5fcMGF1m9Z48djwdChpR8zLQ3dv/vWEZ3hImXx9TdYIsGd6u6yMzb9MtP6qcXVV2H56Ptj4ssa/4QlCvPfnoZNM4vzeU3tx42zFqfuRAHElP/a6xYbL6n1LTdbixyT3IvGltdcjSYDBzqRvLT25o4ejYzeuyOj927WjgcXnBQ6jPqt07NnKWs/y81+5hnU79vHaqM5ffcsuVf//qUWb+kdslGYw6+Tli+xPlsLN6NoMb9zED1xQdfy6quLFxa2SDJXR3LjMX9j8A4XAmbRY36njzcXqSZxLFg0bBjWvPmWpwehEOdiLZ7EY3M2fh9dpHOHou09d2P99BmYP3QoWl17jbXw5E4DjRrcSneObqtwAAAgAElEQVRbm+O5d1nXSgBKAJbVR8r6e1IEYO7o+y3rkpIIJJpA+JE/sSaSRN87yOU1GDAAdbp2RV6Sg5Ao8NOaNMHSMrYHM/r2xYYZMzwho5imFXz911871zOAIGdw/G4Lnm4YwIvMwubfE06MW6SYx+EuSzRLfUU/cvPLLkX9vn2tbXYGYMRKXvtOh0nPIueMYt/ooKcun3+WcL9sCUAJQL/9PikCUJOy32ZR/lgE3FZA9TX1FREQgaAToMtH92+9LYi8PosEoASg174S7ToJQL8ElT/lBCQAU45cNxQBEfBJwEuwTjy3kACUAIynv0S6VgLQL0HlTzkBCcCUI9cNRUAEfBKQAPQJMEJ2HQTtj6kEoD9+yl0BBNxfeNAWcAU0gG4pAiIQNwEJwLiRlZlBArBMRDEvkAD0x0+5K4CAOxBEArACGkC3FAERiJuABGDcyMrMIAFYJiIJQH+IlDtoBHh2mjmvTgIwaK2j+oiACEQiIAGY+H4hAeiPqSyA/vgpdwUQaDtqlPNFCAnACmgA3VIERCBuAhKAcSMrM4MEYJmIZAH0h0i5g0ag3m67oeOU4i+FSAAGrXVUHxEQAVkAU9MHJAD9cZYF0B8/5a4gAmY1LQFYQQ2g24qACMRFQBbAuHB5ulgC0BOmqBclRQD+ffgRpb7J6a+ayi0CoQQkANUjREAEKhMBCcDEt5YEoD+mSRGA804diI2//OKvZh5yN9h/f6z77DMPV+qSqkaA3xld+dSEqvZYeh4REIEqSkACMPENKwHoj2lyBOCgwdaHy5Odmg4ZgpUTJAKSzVnli4AIiIAIlJ9AqxtvRNMzzyh/ARFy6ksg+hKI3w6VFAG48NJLsfbDj/zWrcz8270zDeu++AK5d99T5rVBuqDu9tuX+4PvQXoO1UUEREAERKBsAu0eegiNDj2k7AvjuEICUAIwju4S8dKkCMAta9ZgTp++pW6YlpmJFldcgaW33BJXvZucfDIKFy/G+q+/dvK1HjkCmaecgjXvf4BFl1/uqbz07Gxk9OqFDd99Z5VXEalW2zbo+skn5Y5e7fL555jbv39FVL3S37NO164o+OuvpD9HtxnTkda4MbYVFmLWTjt7vl+DAQOwbfNmrP/qqzLz1N9rL2z8/Xdszc8v81pzQY8/fkf+62+gXq9dUSszE3P27Ocpb3r79qi/7z5Y/fwLnq6PdlGjI47Amnfe8VWGydzoqKOw5u23E1KWChGBZBOQAEwOYW0B++OaFAHIKm3btg0bf/gBOacXm73L+/muxieegLZ33GGV4Y74bPfA/Wh0+OFY/803mH/OkFIUGh52GFrdcEOIWNrunXdQZ7tOVt1m9dw+Jrk2d9+FJdffYF3T5fPPUKtp07gmc3fhLYcNQ+6991o/pbdtiy6ffIz8adOw+OprPLVek1NPRVpmE9Rq2szaRvAa+dpu7BjUqFkTtDjOPWCAp3uVdVGXLz7H4uuuw4Zvppd1qfN3Pu/cAQcW/39aGrBlS8y8tVq3RtHSpajdqVNCg4nogzN/6PlY/+WXpe7fZOCpWP3CixHr1e7BB1Cjdm3kPTEeG3/+2bmmdocO2JyTE5Kn3q67ouMLzzu/RWqrtKZNsWXlSuca9uWGBx2EGunppfq5uaj7zz9h9q69nDx8lkj9uFabNqjTrSvWf/4FajZqhMzBg5D36GNWvnAfJFO3ervsEtVnl8/e8JBDrH604fvvnfc5pH9fczVy7xsdUrfNCxdh/pAhaHToocgbP976G8cAcFz48Ufkv/kWVk+d6uRpcOCByOi1a0g5/GOLq67C8vvvt67r/N67+Puww61/Zw46Dc0vvRR/9durVJtxoVc4f36p39uOvg+Njzwy6pgRqfHrdO+O5hdfhEWXeVtksgxy37pmjef3QxdWfQLtxjyERofIApjolpYA9Ec0aQKQ1aKlLeeMM0tNPuu+/BILhp5fZs3r7rIzOk6ejBq1apWaGI0ADJ8EOzw3CelZ2Uhv1TKkfF5Xo0ZJdylLRHWY/Jwl1rasWYu63btZZa164UUsvfXWMuvtvqDTG6+jbvfujmgzAtBcs/rll7Fk+H9jlkkB2GZEyX3LqjsLCx9w/tx+B2DrVk91zxw8GJsXzMf6L0oLpWjCI1rB6e3aocvHH1liZduGDVj9yitYduddZT5v6/8Od9p9wQUXYt3nn3uqO63MDQ8+OERcmIyse+4DDyLv8cdDyqLIaH7+0FLCmhbDtqPuRd0ePazrl955J1Y9O8n6N/tf/b33xupXX8Wat97Gpt9/t35vceWVaH5BSd92txWtt0VLFoMicf2332L+mWdZeTq+9BLq7bSjUyd3noaHH4Y6nTqhxWWX4Z9jjkXBnDkh79PG33633rPce4rdIOrutBOynngcK599Fk2OOw75b7yBFeMeLfUO8gdzn2bnn48WV16BVc9NRp1u3SzBZYK4oonGWi1botV/h6Nu166o3bFjCDt3nk2zZuHf446PeX/+kdZJikymf086GZt++836d49fZzoLr+3efQf/HH6E9TsFYOubb0bRqlVg0Jlb8FHoRVpctX/kYTQ8sHghsm3rVsziO1FGMl+d8fLOmaK6z/wF+a+9HvdOR1l18fr3xiedCBQWWW0fT6qRkWG9o9UtsS8X5eYm9bElAJODVwLQH9cKEYDuycdUv+MrL2PNm29ha8EmxxITbfJhHiMA+e85e+3tWFS8Rlq5B/R6vXuj1XXDrMnTWAZp6UpvGSoit27ebFkC3JHHtALVqJ+Bgj/+DGkJWk62rF6NzIEDrd/N/YwgMhd7mYianHIK2owc4ZS/Zd065N53XymLVf3++1mWH4vP2DFodPDBTp4/d9ixlOWt27czsHX9ehQuXIiMPfZw6tj1qy9Rq3nziJZGw5dCbslNw53yOTnTqpUz+PQQDuHPW/D33/jnyKNCrml+0UXgIGzEdbjgjUcA8jk6THo2at3znnoKuaPus+7f+PjjLSsjxR/TX/sfYFkeTcrYfXdwQWGSWwBG65vhAvDvo47C5rl/W0VEyxNLALrzbKBF3eYbray6O+6ITi+/5NR5+ZgxngRgy6uudPK4o/ij3Sf76Ymov+eeJf2rR0/n3yECcPZs/HvscTGfn+9Q5/ffc/LnPTUBuaNGWf/P7z7P2nEn69+RBKDJNP+8oc7Wedbjj4F9Jjy1f3isZWk1KVzU1d9nH8tFoGjZMuea8gjAWEcUNTrySKyZNq1U3SiiMwcNwrI77yz1t3h/6PzB+6idne15p8CU3/HllzHvpJPivV3I9S2vu85ZjPgqKM7MXGSuGD8eGb13x+Jrr40rN+eeeSd6f+5obRjrphKAcTWJ54slAD2jinhhcgWga8sofCKZe+BBKFy0CLVatLD8ApuceIJVwdwHH0TeY8UWmvA8K54Y72wHUWA1Ouww67olt95qiaHanTuj8zRvfkHLRo2yjhFpNXw4mp4+2IGzef58bFm7FvV2iG4dcE8crOPyMWOxYty4EMBuiwb/EE0A8m9bCwqs7fL5Q861yuB2H/3AFl5yqfX/4QIw0gQWLtpKWQAjCMBwvvTd3LphA9Jbt7ZuEcnqYfJs27IFKx55xBEXZot/6cjbsGrKFIdFuADkH7htmtasmbUVxy1BszVi7pdMAbh140YsvPxyNBwwwBHnprJ89qLly/H3ocX9KnUCcCrq7VQscsK5xy0Ad9gBnV552SnLkwAcOhQtr77KyVMeAcgtfvrV1mzQAN2//84pa5MHAZjeIRtd3n/fyZM3YaLjMhEiAN95B/8cEWoBNJlCBOATj2PB+ReEvI/8n1KLIpdobXzccWhzV7H4Kly0GH/bQtEIwPw338SqF6da76lJXT79BDUbNkRagwZYNXUqlt5c7NscSwDybwsuvgTrPv44pH78nQvM2TvvEvJ76xEj0OjwwyL6VJd6QPsHWpq5AxKP1dLUOzxPPL6WHZ6fYvlYx3PfZuedi7wnn4r2KJ5/d78nXu/f/tFxltjnIt1rHtSqhZ6//YrCZcswt//+nuvXftw4NBxwgOfrvVyoIBAFgXjpJ7GuqTABWLRypeVT1PCAAxzfJ1Y0lgB0T45uAchJfc2776FB//1Qq1kzT0y4JcmX34gdT5nsixZdfY21iqcjfvaEpyzRtPimm1C/Xz9nEnD7PLrrTYf6Lh99GPF2Kyc9h7SmmZafkjuPFwEYPumUJQDpb8bttVgplgA0+dZ+8ilq1qtrPbtJ7okskgCMdk9HAIZZPOOyANpWu7Uff4yVTz9jbY9aqWZN9PyjeJu2rGTqYayJJc/6CRZedLH1v14tgP8cfTQK/pobM49nC+CPPyJnUPFiJaoFcPvt0enVV5xHLJcAHHia4+vo1QJY8O+/WPHwI2h2wfmo263YZYJp05w5+PeYYyPWec6++2LL8hXIPOMMtL7pRidPiAD8/TfM4uIlzAeQVuMWlxUvkJjMO8l/cwvckwB0uUW4n5P+i+EC0NzH9A0uYLp9XRKsE48A5LZ13vgnrUWee0ufAUCzwgRgmztuR5MTTwwRKGlNmqDVTTdi8bXDInblcAFYs3FjNNhnn4iWR1OAWQg7fb9vX5BxRp89YvpLZ/Ttiw0zZljF0IJYb8cdsJwLw7EPl6obBXONunWx4NzznFMQLOFbUGBt+XMBvK2gwMpXd4cdwG9+L7nxxhC/24gPHPY+eBVz5RGN9Kc275e5T+Njj0Hbe+6x3FT4X1HeSqy1FzRNzznHcg/hPGFcmaI9Q7y/SwBKAMbbZ8KvrzABGK3ieU8+6TiCR9rONS+dWwD6hRBvfgq+tZ9+igb77Ye0hg1Dsm/64w/UqFMHdTp3DvndsQDGEIDh9YgmiMx16778CguGDgUH4Q7PPG397PAJczp2bwG3uf02S7BRnMVKXgRgtPyxLJ5l5QkXvPEIQOPPZ+7Bdlo6YiTa3nsP6vfp46mpowlALhoYQELfwPQ2bSK2b/gWcCwByGCawqXLkD1xguP/5m5D/tv9DnChM7v37sWBRGGLCKfOffqgw7PPOHVj0Mq8gadZE2+Pn3+KWOdmYRZAM4GHW/PcdQvfAo4GlpbieacNsoKosh4r9kU0iVYUTpiNjz4aNevVc37fPG+eFexhIuYX33AjaJ3mFi6jiNe+/wHa3nUnatav7yorF4uuugqZp52G2lntLb9Aprb33I3F111v/buUBbAcAvCv/vtbC0cz6ZsKRBKAtIgWLlkS4hbhbs+FV16Jte8Wb33z98gC8A5rdyR39GhLNLa89lo0HXKO5c8cTeh0/+Vn1KxTx/l7xp57osPTEyNezy1b7oCEByAx8Kf9mIesus3ptxe2rFrlsKaLRVqz5tg48xc0PuYYx5ey2/RvQHG65sMPsejSy0LauuHBB6H92LHWb9GswnRHYf9manDAAch6dBwWXnEl1r5X4h4QqZ91nPoi6u1cEm2/5JZbsfrFyAFdJn+jo49Gu1HFgXnufs0gKrq/bPr111K3YkBii4sucsbNcAFoMnAXYcEllyDzlFOdna1I9fb7mwSgBKDfPpRcAfjjT8gZNMgZ4LxUluJq4SWXgFGBTQeXbM2Gv6gVKQC9PEf4NckQgLwHedWoV88JcPEiAMvjJ8l7tbnzTjQ5odihv6xk6sFAieynnizr8pBBuDwCkH5fW9aus87aMpOZp5tGuCiaAIxV3p/0UysqKhXQ8c/xJ6Dgz2L/UK/cebTR4mHD0Pa+USF+nFZ7b9pkWRLCrQlr3n3XEgh8L+j/5U6b/vzTEqycnN1p7qGHojBnPugD5XZ5oBDJn/YO6vfbs5SF3LChaHVbfWOxCQ/A8tIuhctykdaksSVk4k28Hy2ftbOyrf7q1PmZZ1C/b8kiYOWUKVg28jaEC+BYFsDCpUux9oMP0PiEE6ytX5MYNGNEZzSrKSOKt3vjdSfPysmTsey2252+QbFsrJ3mojZ3FAtAa8diyRJL/JtUMHcu1jMav0YN1M7Oshad27YBtdsXL+ycd3CvfsieMCGmS4cp0+RxC8DNCxci9557sfbDD9H6lpstke1OFPLbNm0CfTmZ3AIwPSsLhQsWIHwLlDs96a1alSqLi9pVzz0HHvPFv7MfWMJ+0GmWf+7meTlY/VKJj2uk94oWxfVf/8+ywkULhKGbTc26dZ3HyH97muVXTZHKgCy2J9ujZv0GlqtLRp8+Ia5CzGje7XjehXj7cqzrJQAlAP32p6QKQL5APKIlPTsLbW8vHuj8Jm4TbJw5E10++wxpDUosAH7LTXZ+WkE2/vQTWlx+GZr/5z+ebmcid+M5Q8oRgGEHj+acfQ42TJ+OtObN0e2r0tG9kSpkymJwTMcpk+MSVmyjVZOnWMd4hEdkR3v4uQcdbAWkcLuE2+smLbjwP2V+8s9EW3sCW8ZF5RGA3NbjBFW3Z0kwBG9Dawcj3rld2SQOB3u+OzV4ZE4SEyfKouUrHMHg5VaGjdnu85Knoq9Z/cqrYPBRy2uvCTkJgPUqzM21/JDdJwTQN5k+ykzGB9DLM6z95BPUzsqyLMTu5FiKXEda8e/bioqs43Aydu/tiPZVzz9vBWaZY3WMAPRy//Br6FLCI3iyn37aOv7KRJ43PPRQyx+N73Wd7baLWFdG0rcfOybkbwxYM5HaserjFoC0RvKdDt8RKc/zmDx0O2EbNTrqSOu8zWh1WjpyJFZNKTmSifkpUuv06IH2Dz3opwpWXrq6FC1ebEXBV0SSAJQA9NvvkioA/VYuUn6uhGlp8WvlSUbdYpW5Zd16bPp1phVt69UXhJNTwezZYHSie4KKdR8z2YRHPBbl5WHlpEmWPxEnKS9pw48/IW/CU2h1/fWo3b69lyy+rqE1k9YGtw8ZC6R/Wc7A07AlxqHHnV57tZT4Km9lZvXaDds2bix1pEt5yyuPBay890p2PkZ/c/LlsTRVNVkHePfazTr7kQEtXkRPLBY8kodHSGVPnOh5MWTe43is7tHGS/fYYVmQ69SJOp44FsAIAtBre/OAchNV69Xq7bXseK4LF4BNzzrTOhu2qiQJQAlAv3250glAvw9c1fMvvf0ObPx1JjpOmmRNYFUllXVcDh2z6aCdiES/rfUzZljBOJVtoZGI51cZxVvtDByqWUHvUKIEYLxtGWkLON4yeD0XCvQxdh8VVJ5y/ORxC0AGoPCAea8LaT/3TVVeCcBgCsA3AewKgIfI0XOWH8W9DoD59hjtxf9G6CQ84t7t7crvffEIfJ5Hwrz0WC0+0r8kXQSAhx7RI50hjlcA8La/V1yGBGCq3lbdxzeBWNF94X5svm+mAkSgAgk4AvCuu9Dk+OJzFFOREmEBTEU9vdzDLQAr0hLppa7luUYCMJgCkCeqfsPj6Rh4BqD41FnAODUZAUgnE/e5FPw21Gb72k4AeBQ+v6HEQ/H2BsCD5uh9a854OBUAT6mlCORHcnnw1XkAaAYp/R2kyD1MArA8b57yVAiBmALQPoKiQiqmm4pAggmYvm4+X5ng4qMWV7UEYMmZpBKAqepBqb1PZTgI+hgADP1iOFshj0uyLYD8sGfJh0VDufG7Tszn9iin9Y+nhJoD13j40o8A3BEFDDfkvbw6OkgApra/6m4+CPxz3PEomDUrYgmVKSjBBwJlrSYEilasAP12+RnJVCYJwFTS9ncvWQCDaQF0t2pTADz8ipbAfew/GAG4gOdd8gtUAB4AUHJ8P8DvefHQLvcXyHn+Br+enoHi5+ZHG08G8Jrrhjy4idvP3D6OlChC3ecq8BC7hfn5+WjUiFpQSQSCS8BEMrOGbe6+CwWzZmPl08XnH3b5/DPr2AglERCB8hOQACw/u1TnlAAMrgCkBe8SW6xNB8CPn+bZHaQ5gDPsbduttqXvJgD8Mvxz9jX84jtnNveHIbmFzK1eHgRFAbjI3hr+n6vj8Th9lhNt2XgrgOLvFbmSBGCqX13drzwEcs462/nqALd01k+fgflnn20VVRW3eMrDSHlEwA8BCUA/9FKbVwIwdQIwonAKa+49AHzvEnm0/vFkTAqufFsEbovSRXhEOq125jhzCsCJAO5yXU8/QH57iAEfNW0BSFFIf0OTKCQpLntEuY8sgKl9R3W3BBLIOfMsbPj2W0fwrZ/xLeafxfWOBGACMauoakxAArDyNL4EYOoEIK12/C9WmsdzXyNcwAPUuN0bLtbcl/KTF/xcgvkeUrK2gMOrJx/AyvO+V/uarhg/HstH3299Aqz7D987B9tKAFb7riEACSIgAZggkCkoRgIwdQLQT3Py1F1G5R4A4LMoBTFS+AQA5lh2biEfbUf0miz0JaR/nzsI5Ac7Cthc8weANxQE4qe5lDeoBHhA75r33rMO005v3RobvvsOOWecKQtgUBtM9ap0BBZcfAnWffwxOkx+Dhm9e1e6+rsrvPS227Fq8uQqOz5IAAZPAPJDk/yPW7U8A5CCbqS9bcvz/ApsHz1GAzPIgz6AFHr09eNZgQwGYTLHwPAIGB4FQ9HHKOBIx8BcaG8Dnw9gqH1uYI7HN1cWQI+gdFnwCBStXIm/9qJnhLaAg9c6qlFlJMAD1/nFnVqZmZWx+iF1lgCs9E1Y5gME7RiYnQAwEpfHtfBDtTwLkIc780O4DNpgotMSxR79A7cAoL8fP0xoAkDMQ9MnkILQHARNq2Ckg6CH2QKT5wbyDEJuH3tNEoBeSem6QBLYnJODGvXqIb0lz11XEgEREIFiAmveex+LruC3EarmAlEWwOBZACvbuycBWNlaTPUVAREQAREokwC/wc3t7Lo9e1qfpatqSQJQAtBvn5YA9EtQ+UVABERABEQgxQQkACUA/XY5CUC/BJVfBERABERABFJMQAJQAtBvl5MA9EtQ+UVABERABEQgxQQkACUA/XY5CUC/BJVfBERABERABFJMQAJQAtBvl5MA9EtQ+UVABERABEQgxQQkACUA/XY5CUC/BJVfBERABERABFJMQAJQAtBvl5MA9EtQ+UVABERABEQgxQQkACUA/XY5CUC/BJVfBERABERABFJMQAJQAtBvl5MA9EtQ+UVABERABEQgxQQkACUA/XY5CUC/BJVfBERABERABFJMQAJQAtBvl5MA9EtQ+UVABERABEQgxQQkACUA/XY5CUC/BJVfBERABERABFJMQAJQAtBvl5MA9EtQ+UVABERABEQgxQQkACUA/XY5CUC/BJVfBERABERABFJMQAJQAtBvl7ME4IIFC9CoEf+pJAIiIAIiIAIiEHQCFIBZWVmsZmMAa4Je32TUr0YyCq1GZbYDsLAaPa8eVQREQAREQASqEoH2ABZVpQfy+iwSgF5JRb6O/NoCWOuvmFK5G9rCkh0z0WUnuKpJL04sShCLhVhEeuHUL9Qv1C9iT0XR3hH+vhjAtqTPZAG8gQRgABsFgLW1XJ1N065mEYsSGGIhFpFGLPUL9Qv1i9hzud6RCHwkACUAg0lAA7oGdA3oXt9NTW4aLzReaLzwOl4410kAxo0sJRk0oGtA14CuAd3rYKPxQuOFxguNF17HCwnAuEmlNkMdADcAuAtAQWpvHbi7iUVJk4iFWER6QdUv1C/UL2JPXXpHIvCRBTBwekcVEgEREAEREAEREIHkEpAATC5flS4CIiACIiACIiACgSMgARi4JlGFREAEREAEREAERCC5BCQAk8tXpYuACIiACIiACIhA4AhIAAauSVQhERABERABERABEUguAQnA5PItb+kXAbgWQBsAvwO4AsCX5S0sAPkY0XwCgB4ANgL4H4DrAMx21Y1RWvcBOA1APQAfAyAH96f2sgE8AmCAXc4UANcA2Owqpz+A+wHsYJ/wfi+AxwLAIFoVyOZOAA/Z7czrqhMLfk7xHgCH2+0+B8C5AH6wgXGMugXA+QAyAcwAcLH9Xhim/H0MgGPsH94EcCmA1S7oOwF4GEAfACsBPA7gtgB9AaAWgFsBDAbQGsASAE8DuB3A1irOYj97vOttj3nHA3jd1Xap7AMn2v2iM4C/AdwE4LUUjh+xWKTb/eEIANvZHwv4CMD19liX6PchyCzCm4TvM8eIKwE86PpjosaGimaRlC4oAZgUrL4KPRXAJFv8fA3gAgDnAdgewHxfJVdc5vcAvADgOwCc6O4AwAmZz7TertajAI4GcDaAPACjATQFwElhC4A0AD8DWA7gagDNADwD4FV7smcxnQD8BmC8PcHvDWCcLSpfqbjHj3rnPQBMtT9E/qlLAFYXFhycfwLAZ+cz5wLgxDvPnnwJjgsFTsLsFxSHwwFwkuzu+kziuwD42UROAExP2GWwPzHxnDzm5X3Y97rZ4mqE3c+C0DX4jJy8zrLF7e4AJtrPy8VBVWZB8c939UcAfE/DBWCq+kA/e6H9X1v0sR4jAexjLzxS0U9isWgM4GV7fPvFXhBR7HBMZX8xKRHvQ9BZuNviOHvx1ALAqDABWFVYJKXvSQAmBauvQmnh4ED4H1cpf9orYlqLqkLii8rJnta6L+xP3lHYnQHgRfsB+Y3lBQC42n3fthC9DSDLtdodaE/kLW0RRUsSrUA9XZBo/dsFAAe0IKUGdjvTyklRQ3FLSy8H+erC4m574t83SsNwfOJ3OjnJsW2ZaB1dZgtDrvrZ1n8A2NM1SfPf39gWZ1qZ+S7xTM1WrnM1aTWhlZDCMQjfAWXf5nPR+mkSxdAG+72oLizYFm4BmMrn5tjDxQJFmElcvK6yF5GpHj/CWUS6PxeR3wLoYBsIEvU+VBYW3EHgnHkogGn2WGEsgFWVRcL6oQRgwlAmpKDa9oB/cti2Ay0Au9qCKSE3quBCugD4y7YC0mLHLV1u+dLix8HWJK5yuRXELUCuxI+1xZz5Oy1I3M5jflp3KCZpUbrcVQYnE1rZMgAUVvBzu29P6yXrTqvPZy4BWJ1YULhR3FOEcTGwyLbY0oLLxG0ubsPtZrer4feGvb1La9kQe8u/SVjbcvuXbGlFe9YW1uw/JvWyBTjv8Y57m2YAAAfQSURBVG8A+gUF6YUADrGtlVy0fGAvCp6vRizCRU8q+wB3WB6w/zNdgn2ICzMKrFQnLwLwILufsP+vSeD7UBlY1ATALXCOB5wjuXNA8WcEYKLGhqCxSFg/lABMGMqEFESrFydBbofQT86kG+2tIW57VfbEPscXluLNWH4G2RM1rTvuxAmQkzO3wbmt19GeIN3X8Esp3B7kJMltPvpN0afOpL0AcCudbOlXFYREyyWtfty22RQmAKsTCz47E302X7L98zh4s70p2kzbcZVPS6BJ7AuckLnq57vB9ue2rjuxL1D80fLHfsTJwWwR8zrzrvEetBZWdOJ7wX7L7U7j8sBtYdafqbqwCBc9qXxu+hKzL9G32KRo72Mq+ktZArAugK8AzAJwul2hRL0PlYEFd8QOsMcBsgoXgFWVRcL6ngRgwlAmpKBokxInAm6PMoiisicGcRxp+9WYAI9og+yHtgWIlhH3pO9mwIHqTNvH0D3pm2sopjlIMqBmaQDgcQv7e1vI0sLJ5LYAVicWbDuy4CRvEoM5uK3FLfto4p0WQnI8zBaAtASGL45oYX4KALeZ3QsJcx+KSvY/3md6APoFFwX0X2LwFwO/aPGnGL7K9nWtLiyiCcDwBVwy+gD7I/sSF5MmMSiH/YhiK9UplgBkQAgXTQyM29+2/rF+0YwF8b4PQWdB33Bu+XJ3wCwOIwnARIwNQWORsH4oAZgwlAkpqKpvAY8FQIddOvG7t92q07Ynn59RhbTymMQAFw72jPakVYvbGtVhOzwHAEU+g5xMor8eraMUaKnc/kvIC+yjEPq7UqxygWQSOdCyw4VfdWGhLeCS9o8mACn+6NbCPsGxk0FzJlXVbc9wFtyW586BiZDn83Mc5f/zXeJuUVVl4WOYCc0qAZgwlAkriA6tPAKDwQEm0VeK26aVNQiE/Yzij/54XK1yNepOJvCBkx0HNiZa7GihCQ8Cob+Y2cplxDR96dxBIIz8ZHSxSYwupTUlKEEgDSP4E3Grkts4DHTg4MUgkOrAgltttOS5g0Dog9XXtv6ZAAD+xuN8mLhIYgARt0rdQSDMQ2d4Jv6bVj0KJxMEwu1VBoGYI4OY/7IABYFwEqfgY381ie/7Ofb2dnVhES0IJBV9gIEPfD855pjEKFL6k/J4qlSnSALQiL+u9vYnxwp3MoEPft+HoLPgKRCcI9yJ/sQ8QYPjKd/7qsoiYf1QAjBhKBNWkDkGhtue9E2i39JQ+1w7WkwqY+JRLNzapBO+++y/fPs8Pz4TJ76jbB8cBkfwTEC+5OHHwDBSkttktJDR349BIozmZDLHwFAYcIuIoo9RwBy8g3gMjGlL9xZwdWLBrV76ujLIh8KfZ/Sx3djnJ9twKNSMEOLCgVtcXESEHwPDLUL6DjLRXYDvijkGhgsM9rtPbD87Tp7sOwws4nFDQUisDx36+QzcAmaQCp9jgi12WceqyoIR8QwMY2IQF7e9GdTFcYAO+Kl6bm6zM5CMLjdccHO84jmMqTwGJhYLbnVyHOO2J8dKjoUmkZVZ3FC0+n0fgs4i0pFo4VvAZFNVWCRljJIATApW34XS+jfMXuEwSpaRaByYKmuKdswGrRuc+JjoY0MfKApF90HQtIiZRH8Xisnwg6AZCGISo0lpLTAHQdOqFuSDoFnvcAFYnVhwImOgA0UZ3QK4rWOigMnGHAJMYeQ+CJrvhUlcDIQfBH1JhIOgub1KkclIc/YJCsAgHAHD56DliQdT00pOizYne/qisY5mYq+qLCjoKfjCE637DMpI5XOfZIs+s+VOMcizRlOVYrHgQeHRItYZDMFxhClR70OQWbBfhKdIArCqsEhK/5MATApWFSoCIiACIiACIiACwSUgARjctlHNREAEREAEREAERCApBCQAk4JVhYqACIiACIiACIhAcAlIAAa3bVQzERABERABERABEUgKAQnApGBVoSIgAiIgAiIgAiIQXAISgMFtG9VMBERABERABERABJJCQAIwKVhVqAiIgAiIgAiIgAgEl4AEYHDbRjUTAREQAREQAREQgaQQkABMClYVKgIiIAIiIAIiIALBJSABGNy2Uc1EQAREQAREQAREICkEJACTglWFioAIiIAIiIAIiEBwCUgABrdtVDMREAEREAEREAERSAoBCcCkYFWhIiACIiACIiACIhBcAhKAwW0b1UwEREAEREAEREAEkkJAAjApWFWoCIiACIiACIiACASXgARgcNtGNRMBERABERABERCBpBCQAEwKVhUqAiIgAiIgAiIgAsElIAEY3LZRzURABERABERABEQgKQQkAJOCVYWKgAiIgAiIgAiIQHAJSAAGt21UMxEQAREQAREQARFICgEJwKRgVaEiIAIiIAIiIAIiEFwCEoDBbRvVTAREQAREQAREQASSQkACMClYVagIiIAIiIAIiIAIBJeABGBw20Y1EwEREAEREAEREIGkEJAATApWFSoCIiACIiACIiACwSUgARjctlHNREAEREAEREAERCApBCQAk4JVhYqACIiACIiACIhAcAlIAAa3bVQzERABERABERABEUgKAQnApGBVoSIgAiIgAiIgAiIQXAISgMFtG9VMBERABERABERABJJCQAIwKVhVqAiIgAiIgAiIgAgEl4AEYHDbRjUTAREQAREQAREQgaQQ+D+iq1fPwC7WZAAAAABJRU5ErkJggg==\" width=\"640\">"
      ],
      "text/plain": [
       "<IPython.core.display.HTML object>"
      ]
     },
     "metadata": {},
     "output_type": "display_data"
    }
   ],
   "source": [
    "plt.plot(data['c1'])\n",
    "plt.plot(data['c2'])\n",
    "plt.plot(data['c3'])\n",
    "plt.plot(data['c4'])\n",
    "plt.show()"
   ]
  },
  {
   "cell_type": "markdown",
   "metadata": {},
   "source": [
    "## Frequency Domain Analysis"
   ]
  },
  {
   "cell_type": "code",
   "execution_count": 9,
   "metadata": {},
   "outputs": [],
   "source": [
    "# plt.plot(np.log(fft(sig[:20])))"
   ]
  },
  {
   "cell_type": "code",
   "execution_count": 10,
   "metadata": {
    "scrolled": true
   },
   "outputs": [
    {
     "data": {
      "text/plain": [
       "(13460, 9)"
      ]
     },
     "execution_count": 10,
     "metadata": {},
     "output_type": "execute_result"
    }
   ],
   "source": [
    "data.shape"
   ]
  },
  {
   "cell_type": "code",
   "execution_count": 11,
   "metadata": {},
   "outputs": [
    {
     "name": "stderr",
     "output_type": "stream",
     "text": [
      "C:\\Users\\sagar\\Anaconda3\\lib\\site-packages\\ipykernel_launcher.py:1: DeprecationWarning: \n",
      ".ix is deprecated. Please use\n",
      ".loc for label based indexing or\n",
      ".iloc for positional indexing\n",
      "\n",
      "See the documentation here:\n",
      "http://pandas.pydata.org/pandas-docs/stable/indexing.html#ix-indexer-is-deprecated\n",
      "  \"\"\"Entry point for launching an IPython kernel.\n"
     ]
    },
    {
     "data": {
      "text/plain": [
       "(13216, 4)"
      ]
     },
     "execution_count": 11,
     "metadata": {},
     "output_type": "execute_result"
    }
   ],
   "source": [
    "X = np.array(data.ix[250:, 1:5])\n",
    "X.shape"
   ]
  },
  {
   "cell_type": "code",
   "execution_count": 12,
   "metadata": {},
   "outputs": [
    {
     "data": {
      "text/plain": [
       "array([[ -113.09,    68.43,   295.68, -3201.44],\n",
       "       [  -92.73,    77.51,   279.56, -3220.05],\n",
       "       [ -118.18,    83.39,   292.87, -3250.32],\n",
       "       ...,\n",
       "       [ -138.53,    65.92,   286.24, -3281.31],\n",
       "       [ -155.07,    54.26,   281.53, -3270.6 ],\n",
       "       [ -132.  ,      nan,      nan,      nan]])"
      ]
     },
     "execution_count": 12,
     "metadata": {},
     "output_type": "execute_result"
    }
   ],
   "source": [
    "X"
   ]
  },
  {
   "cell_type": "markdown",
   "metadata": {},
   "source": [
    "Estimate power spectral density using Welch’s method.\n",
    "\n",
    "Welch’s method computes an estimate of the power spectral density by dividing the data into overlapping segments, computing a modified periodogram for each segment and averaging the periodograms.\n",
    "\n",
    "https://docs.scipy.org/doc/scipy-0.14.0/reference/generated/scipy.signal.welch.html"
   ]
  },
  {
   "cell_type": "code",
   "execution_count": 13,
   "metadata": {},
   "outputs": [],
   "source": [
    "freq, y = signal.welch(X.T, fs=200.0) "
   ]
  },
  {
   "cell_type": "code",
   "execution_count": 14,
   "metadata": {},
   "outputs": [],
   "source": [
    "y = y.T"
   ]
  },
  {
   "cell_type": "code",
   "execution_count": 15,
   "metadata": {},
   "outputs": [
    {
     "data": {
      "image/png": "[encoded data removed]",
      "text/plain": [
       "<matplotlib.figure.Figure at 0x14bdfe49a58>"
      ]
     },
     "metadata": {},
     "output_type": "display_data"
    }
   ],
   "source": [
    "%matplotlib inline\n",
    "for i in range(y.shape[1]):\n",
    "    _ = plt.plot(freq, np.log(y[:, i]), label='Channel {}'.format(i+1))"
   ]
  },
  {
   "cell_type": "markdown",
   "metadata": {},
   "source": [
    "## Spectrogram Analysis"
   ]
  },
  {
   "cell_type": "markdown",
   "metadata": {},
   "source": [
    "Ganglion Channel Map\n",
    "\n",
    "<img src=\"https://raw.githubusercontent.com/OpenBCI/Docs/master/assets/images/ganglion_10-20-positions.png\" width=\"300\">"
   ]
  },
  {
   "cell_type": "markdown",
   "metadata": {},
   "source": [
    "The primary motor cortex, or M1, is one of the principal brain areas involved in motor function. M1 is located in the frontal lobe of the brain, along a bump called the precentral gyrus. \n",
    "\n",
    "<br>\n",
    "<img src=https://qph.fs.quoracdn.net/main-qimg-e16a33548b285152409e11eca5c4df73 width=600>"
   ]
  },
  {
   "cell_type": "markdown",
   "metadata": {},
   "source": [
    "Frontal Lobe Location\n",
    "\n",
    "<br>\n",
    "<img src=https://static1.squarespace.com/static/52f3cf45e4b052b2dabf9b7f/t/52f6c093e4b0b19928bff551/1391902868181/FrontalLobes145753472.jpg?format=1500w width=500>"
   ]
  },
  {
   "cell_type": "code",
   "execution_count": 16,
   "metadata": {
    "scrolled": true
   },
   "outputs": [
    {
     "data": {
      "text/plain": [
       "(13460, 9)"
      ]
     },
     "execution_count": 16,
     "metadata": {},
     "output_type": "execute_result"
    }
   ],
   "source": [
    "data.shape"
   ]
  },
  {
   "cell_type": "code",
   "execution_count": 17,
   "metadata": {},
   "outputs": [
    {
     "data": {
      "text/plain": [
       "(13216, 4)"
      ]
     },
     "execution_count": 17,
     "metadata": {},
     "output_type": "execute_result"
    }
   ],
   "source": [
    "X = np.array(data.ix[250:, 1:5])\n",
    "X.shape"
   ]
  },
  {
   "cell_type": "code",
   "execution_count": 18,
   "metadata": {},
   "outputs": [],
   "source": [
    "sig = X[:, 0]"
   ]
  },
  {
   "cell_type": "code",
   "execution_count": 19,
   "metadata": {},
   "outputs": [
    {
     "data": {
      "text/plain": [
       "(13216,)"
      ]
     },
     "execution_count": 19,
     "metadata": {},
     "output_type": "execute_result"
    }
   ],
   "source": [
    "sig.shape"
   ]
  },
  {
   "cell_type": "markdown",
   "metadata": {},
   "source": [
    "### Channel 1"
   ]
  },
  {
   "cell_type": "code",
   "execution_count": 20,
   "metadata": {},
   "outputs": [],
   "source": [
    "# _ = plt.specgram(sig, NFFT=256, Fs=200.0)"
   ]
  },
  {
   "cell_type": "code",
   "execution_count": 21,
   "metadata": {},
   "outputs": [],
   "source": [
    "# _ = plt.specgram(sig, NFFT=512, Fs=200.0)"
   ]
  },
  {
   "cell_type": "code",
   "execution_count": 22,
   "metadata": {},
   "outputs": [
    {
     "data": {
      "image/png": "[encoded data removed]",
      "text/plain": [
       "<matplotlib.figure.Figure at 0x14be2d5d2e8>"
      ]
     },
     "metadata": {},
     "output_type": "display_data"
    }
   ],
   "source": [
    "_ = plt.specgram(sig, NFFT=1024, Fs=200.0)"
   ]
  },
  {
   "cell_type": "markdown",
   "metadata": {},
   "source": [
    "### Channel 2"
   ]
  },
  {
   "cell_type": "code",
   "execution_count": 23,
   "metadata": {},
   "outputs": [],
   "source": [
    "sig = X[:, 1]"
   ]
  },
  {
   "cell_type": "code",
   "execution_count": 24,
   "metadata": {},
   "outputs": [],
   "source": [
    "# _ = plt.specgram(sig, NFFT=256, Fs=200.0)"
   ]
  },
  {
   "cell_type": "code",
   "execution_count": 25,
   "metadata": {},
   "outputs": [],
   "source": [
    "# _ = plt.specgram(sig, NFFT=512, Fs=200.0)"
   ]
  },
  {
   "cell_type": "code",
   "execution_count": 26,
   "metadata": {},
   "outputs": [
    {
     "data": {
      "image/png": "[encoded data removed]",
      "text/plain": [
       "<matplotlib.figure.Figure at 0x14be3ef3470>"
      ]
     },
     "metadata": {},
     "output_type": "display_data"
    }
   ],
   "source": [
    "_ = plt.specgram(sig, NFFT=1024, Fs=200.0)"
   ]
  },
  {
   "cell_type": "markdown",
   "metadata": {},
   "source": [
    "### Channel 3"
   ]
  },
  {
   "cell_type": "code",
   "execution_count": 27,
   "metadata": {},
   "outputs": [],
   "source": [
    "sig = X[:, 2]"
   ]
  },
  {
   "cell_type": "code",
   "execution_count": 28,
   "metadata": {},
   "outputs": [],
   "source": [
    "# _ = plt.specgram(sig, NFFT=256, Fs=200.0)"
   ]
  },
  {
   "cell_type": "code",
   "execution_count": 29,
   "metadata": {},
   "outputs": [],
   "source": [
    "# _ = plt.specgram(sig, NFFT=512, Fs=200.0)"
   ]
  },
  {
   "cell_type": "code",
   "execution_count": 30,
   "metadata": {},
   "outputs": [
    {
     "data": {
      "image/png": "[encoded data removed]",
      "text/plain": [
       "<matplotlib.figure.Figure at 0x14be3f98ac8>"
      ]
     },
     "metadata": {},
     "output_type": "display_data"
    }
   ],
   "source": [
    "_ = plt.specgram(sig, NFFT=1024, Fs=200.0)"
   ]
  },
  {
   "cell_type": "markdown",
   "metadata": {},
   "source": [
    "### Channel 4"
   ]
  },
  {
   "cell_type": "code",
   "execution_count": 31,
   "metadata": {},
   "outputs": [],
   "source": [
    "sig = X[:, 3]"
   ]
  },
  {
   "cell_type": "code",
   "execution_count": 32,
   "metadata": {},
   "outputs": [],
   "source": [
    "# _ = plt.specgram(sig, NFFT=256, Fs=200.0)"
   ]
  },
  {
   "cell_type": "code",
   "execution_count": 33,
   "metadata": {},
   "outputs": [],
   "source": [
    "# _ = plt.specgram(sig, NFFT=512, Fs=200.0)"
   ]
  },
  {
   "cell_type": "code",
   "execution_count": 34,
   "metadata": {},
   "outputs": [
    {
     "data": {
      "image/png": "[encoded data removed]",
      "text/plain": [
       "<matplotlib.figure.Figure at 0x14be3faed30>"
      ]
     },
     "metadata": {},
     "output_type": "display_data"
    }
   ],
   "source": [
    "_ = plt.specgram(sig, NFFT=1024, Fs=200.0)"
   ]
  },
  {
   "cell_type": "markdown",
   "metadata": {},
   "source": [
    "#### As expected, there is significant activity in channel 1 and 2, 30 seconds into the experiment. These channels capture EEG signals in the frontal lobe of the brain, which is associated with motor activity (leg movement). \n",
    "\n",
    "- https://www.quora.com/What-part-of-the-brain-controls-leg-movement\n",
    "\n",
    "\n",
    "#### These waves are in the alpha-beta range since \"the subjects were actively engaged in a task (alert), but the task was simple and likely kind of boring (relaxed)\"\n",
    "\n",
    "- https://biology.stackexchange.com/questions/43284/brain-wave-and-motor-movement-correlation"
   ]
  }
 ],
 "metadata": {
  "kernelspec": {
   "display_name": "Python 3",
   "language": "python",
   "name": "python3"
  },
  "language_info": {
   "codemirror_mode": {
    "name": "ipython",
    "version": 3
   },
   "file_extension": ".py",
   "mimetype": "text/x-python",
   "name": "python",
   "nbconvert_exporter": "python",
   "pygments_lexer": "ipython3",
   "version": "3.6.4"
  }
 },
 "nbformat": 4,
 "nbformat_minor": 2
}
